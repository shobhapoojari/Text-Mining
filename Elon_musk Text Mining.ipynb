{
 "cells": [
  {
   "cell_type": "code",
   "execution_count": 1,
   "id": "938cec90",
   "metadata": {},
   "outputs": [],
   "source": [
    "import pandas as pd\n",
    "import numpy as np"
   ]
  },
  {
   "cell_type": "code",
   "execution_count": 2,
   "id": "93087ef8",
   "metadata": {},
   "outputs": [
    {
     "data": {
      "text/html": [
       "<div>\n",
       "<style scoped>\n",
       "    .dataframe tbody tr th:only-of-type {\n",
       "        vertical-align: middle;\n",
       "    }\n",
       "\n",
       "    .dataframe tbody tr th {\n",
       "        vertical-align: top;\n",
       "    }\n",
       "\n",
       "    .dataframe thead th {\n",
       "        text-align: right;\n",
       "    }\n",
       "</style>\n",
       "<table border=\"1\" class=\"dataframe\">\n",
       "  <thead>\n",
       "    <tr style=\"text-align: right;\">\n",
       "      <th></th>\n",
       "      <th>Unnamed: 0</th>\n",
       "      <th>Text</th>\n",
       "    </tr>\n",
       "  </thead>\n",
       "  <tbody>\n",
       "    <tr>\n",
       "      <th>0</th>\n",
       "      <td>1</td>\n",
       "      <td>@kunalb11 Im an alien</td>\n",
       "    </tr>\n",
       "    <tr>\n",
       "      <th>1</th>\n",
       "      <td>2</td>\n",
       "      <td>@ID_AA_Carmack Ray tracing on Cyberpunk with H...</td>\n",
       "    </tr>\n",
       "    <tr>\n",
       "      <th>2</th>\n",
       "      <td>3</td>\n",
       "      <td>@joerogan @Spotify Great interview!</td>\n",
       "    </tr>\n",
       "    <tr>\n",
       "      <th>3</th>\n",
       "      <td>4</td>\n",
       "      <td>@gtera27 Doge is underestimated</td>\n",
       "    </tr>\n",
       "    <tr>\n",
       "      <th>4</th>\n",
       "      <td>5</td>\n",
       "      <td>@teslacn Congratulations Tesla China for amazi...</td>\n",
       "    </tr>\n",
       "  </tbody>\n",
       "</table>\n",
       "</div>"
      ],
      "text/plain": [
       "   Unnamed: 0                                               Text\n",
       "0           1                             @kunalb11 Im an alien\n",
       "1           2  @ID_AA_Carmack Ray tracing on Cyberpunk with H...\n",
       "2           3                @joerogan @Spotify Great interview!\n",
       "3           4                    @gtera27 Doge is underestimated\n",
       "4           5  @teslacn Congratulations Tesla China for amazi..."
      ]
     },
     "execution_count": 2,
     "metadata": {},
     "output_type": "execute_result"
    }
   ],
   "source": [
    "data = pd.read_csv(\"Elon_musk.csv\",encoding = \"ISO-8859-1\")\n",
    "data.head()"
   ]
  },
  {
   "cell_type": "code",
   "execution_count": 3,
   "id": "8ee644fe",
   "metadata": {},
   "outputs": [
    {
     "data": {
      "text/plain": [
       "(1999, 2)"
      ]
     },
     "execution_count": 3,
     "metadata": {},
     "output_type": "execute_result"
    }
   ],
   "source": [
    "data.shape"
   ]
  },
  {
   "cell_type": "code",
   "execution_count": 4,
   "id": "e25f73b6",
   "metadata": {},
   "outputs": [
    {
     "name": "stdout",
     "output_type": "stream",
     "text": [
      "<class 'pandas.core.frame.DataFrame'>\n",
      "RangeIndex: 1999 entries, 0 to 1998\n",
      "Data columns (total 2 columns):\n",
      " #   Column      Non-Null Count  Dtype \n",
      "---  ------      --------------  ----- \n",
      " 0   Unnamed: 0  1999 non-null   int64 \n",
      " 1   Text        1999 non-null   object\n",
      "dtypes: int64(1), object(1)\n",
      "memory usage: 31.4+ KB\n"
     ]
    }
   ],
   "source": [
    "data.info()"
   ]
  },
  {
   "cell_type": "code",
   "execution_count": 5,
   "id": "fb110749",
   "metadata": {},
   "outputs": [
    {
     "data": {
      "text/plain": [
       "Unnamed: 0    0\n",
       "Text          0\n",
       "dtype: int64"
      ]
     },
     "execution_count": 5,
     "metadata": {},
     "output_type": "execute_result"
    }
   ],
   "source": [
    "data.isnull().sum()"
   ]
  },
  {
   "cell_type": "markdown",
   "id": "a81b83bb",
   "metadata": {},
   "source": [
    "# Data Cleaning"
   ]
  },
  {
   "cell_type": "code",
   "execution_count": 6,
   "id": "fcc13386",
   "metadata": {},
   "outputs": [],
   "source": [
    "import re #regular expression: Pattern matching\n",
    "import string\n",
    "\n",
    "def clean_text(text):\n",
    "    '''Make text lowercase, remove text in square brackets, remove punctuation and remove words containing numbers.'''\n",
    "    text = text.lower()\n",
    "    text = re.sub('\\[.*?\\]', '', text)\n",
    "    text = re.sub('[%s]' % re.escape(string.punctuation), '', text)\n",
    "    text = re.sub('\\w*\\d\\w*', '', text)\n",
    "    text = re.sub(\"[0-9\" \"]+\",\" \",text)\n",
    "    text = re.sub('[‘’“”…]', '', text)\n",
    "    return text\n",
    "\n",
    "clean = lambda x: clean_text(x)"
   ]
  },
  {
   "cell_type": "code",
   "execution_count": 7,
   "id": "65d9d502",
   "metadata": {},
   "outputs": [
    {
     "data": {
      "text/plain": [
       "0                                            im an alien\n",
       "1       idaacarmack ray tracing on cyberpunk with hdr ...\n",
       "2                        joerogan spotify great interview\n",
       "3                                  doge is underestimated\n",
       "4       teslacn congratulations tesla china for amazin...\n",
       "                              ...                        \n",
       "1994    flcnhvy true it sounds so surreal but the nega...\n",
       "1995    ppathole make sure to read ur terms amp condit...\n",
       "1996                    teslagong ppathole samwise gamgee\n",
       "1997                   ppathole altho dumb and dumber is \n",
       "1998                              progress update august \n",
       "Name: Text, Length: 1999, dtype: object"
      ]
     },
     "execution_count": 7,
     "metadata": {},
     "output_type": "execute_result"
    }
   ],
   "source": [
    "data['Text'] = data.Text.apply(clean)\n",
    "data.Text"
   ]
  },
  {
   "cell_type": "markdown",
   "id": "36be41fe",
   "metadata": {},
   "source": [
    "# Word frequency"
   ]
  },
  {
   "cell_type": "code",
   "execution_count": 8,
   "id": "963ec1f3",
   "metadata": {},
   "outputs": [
    {
     "data": {
      "text/plain": [
       "the               486\n",
       "to                400\n",
       "a                 355\n",
       "is                355\n",
       "of                315\n",
       "spacex            239\n",
       "in                219\n",
       "amp               218\n",
       "for               194\n",
       "tesla             166\n",
       "will              165\n",
       "be                157\n",
       "erdayastronaut    142\n",
       "this              140\n",
       "it                137\n",
       "we                135\n",
       "on                129\n",
       "that              127\n",
       "rt                127\n",
       "but               126\n",
       "ppathole          123\n",
       "i                 117\n",
       "flcnhvy           114\n",
       "with              107\n",
       "are               100\n",
       "dtype: int64"
      ]
     },
     "execution_count": 8,
     "metadata": {},
     "output_type": "execute_result"
    }
   ],
   "source": [
    "freq = pd.Series(' '.join(data['Text']).split()).value_counts()[:25] # for top 25\n",
    "freq"
   ]
  },
  {
   "cell_type": "code",
   "execution_count": 9,
   "id": "ba8d1f4b",
   "metadata": {},
   "outputs": [
    {
     "name": "stderr",
     "output_type": "stream",
     "text": [
      "[nltk_data] Downloading package stopwords to\n",
      "[nltk_data]     C:\\Users\\Home\\AppData\\Roaming\\nltk_data...\n",
      "[nltk_data]   Package stopwords is already up-to-date!\n"
     ]
    }
   ],
   "source": [
    "from nltk.corpus import stopwords\n",
    "import nltk\n",
    "nltk.download('stopwords')\n",
    "from nltk.corpus import stopwords\n",
    "stop = stopwords.words('english')"
   ]
  },
  {
   "cell_type": "code",
   "execution_count": 10,
   "id": "97a7041a",
   "metadata": {},
   "outputs": [],
   "source": [
    "data['Text'] = data['Text'].apply(lambda x: \" \".join(x for x in x.split() if x not in stop))"
   ]
  },
  {
   "cell_type": "code",
   "execution_count": 11,
   "id": "b5927288",
   "metadata": {},
   "outputs": [
    {
     "data": {
      "text/plain": [
       "0                                               im alien\n",
       "1       idaacarmack ray tracing cyberpunk hdr nextleve...\n",
       "2                        joerogan spotify great interview\n",
       "3                                     doge underestimated\n",
       "4       teslacn congratulations tesla china amazing ex...\n",
       "                              ...                        \n",
       "1994    flcnhvy true sounds surreal negative propagand...\n",
       "1995    ppathole make sure read ur terms amp condition...\n",
       "1996                    teslagong ppathole samwise gamgee\n",
       "1997                           ppathole altho dumb dumber\n",
       "1998                               progress update august\n",
       "Name: Text, Length: 1999, dtype: object"
      ]
     },
     "execution_count": 11,
     "metadata": {},
     "output_type": "execute_result"
    }
   ],
   "source": [
    "data[\"Text\"]"
   ]
  },
  {
   "cell_type": "code",
   "execution_count": 12,
   "id": "45ff18cc",
   "metadata": {},
   "outputs": [],
   "source": [
    "freq_Sw = pd.Series(\" \".join(data[\"Text\"]).split()).value_counts()[:25] # for top 25"
   ]
  },
  {
   "cell_type": "code",
   "execution_count": 13,
   "id": "63c611dd",
   "metadata": {},
   "outputs": [
    {
     "data": {
      "text/plain": [
       "spacex             239\n",
       "amp                218\n",
       "tesla              166\n",
       "erdayastronaut     142\n",
       "rt                 127\n",
       "ppathole           123\n",
       "flcnhvy            114\n",
       "yes                 86\n",
       "great               76\n",
       "teslaownerssv       73\n",
       "wholemarsblog       68\n",
       "teslarati           59\n",
       "its                56\n",
       "haha                55\n",
       "nasaspaceflight     55\n",
       "good                51\n",
       "launch              49\n",
       "sure                43\n",
       "yeah                41\n",
       "would               40\n",
       "much                40\n",
       "cleantechnica       40\n",
       "one                 39\n",
       "first               39\n",
       "like                38\n",
       "dtype: int64"
      ]
     },
     "execution_count": 13,
     "metadata": {},
     "output_type": "execute_result"
    }
   ],
   "source": [
    "freq_Sw"
   ]
  },
  {
   "cell_type": "code",
   "execution_count": 14,
   "id": "f1293feb",
   "metadata": {},
   "outputs": [],
   "source": [
    "from sklearn.feature_extraction.text import CountVectorizer"
   ]
  },
  {
   "cell_type": "code",
   "execution_count": 15,
   "id": "fefccc70",
   "metadata": {},
   "outputs": [
    {
     "data": {
      "text/html": [
       "<style>#sk-container-id-1 {color: black;background-color: white;}#sk-container-id-1 pre{padding: 0;}#sk-container-id-1 div.sk-toggleable {background-color: white;}#sk-container-id-1 label.sk-toggleable__label {cursor: pointer;display: block;width: 100%;margin-bottom: 0;padding: 0.3em;box-sizing: border-box;text-align: center;}#sk-container-id-1 label.sk-toggleable__label-arrow:before {content: \"▸\";float: left;margin-right: 0.25em;color: #696969;}#sk-container-id-1 label.sk-toggleable__label-arrow:hover:before {color: black;}#sk-container-id-1 div.sk-estimator:hover label.sk-toggleable__label-arrow:before {color: black;}#sk-container-id-1 div.sk-toggleable__content {max-height: 0;max-width: 0;overflow: hidden;text-align: left;background-color: #f0f8ff;}#sk-container-id-1 div.sk-toggleable__content pre {margin: 0.2em;color: black;border-radius: 0.25em;background-color: #f0f8ff;}#sk-container-id-1 input.sk-toggleable__control:checked~div.sk-toggleable__content {max-height: 200px;max-width: 100%;overflow: auto;}#sk-container-id-1 input.sk-toggleable__control:checked~label.sk-toggleable__label-arrow:before {content: \"▾\";}#sk-container-id-1 div.sk-estimator input.sk-toggleable__control:checked~label.sk-toggleable__label {background-color: #d4ebff;}#sk-container-id-1 div.sk-label input.sk-toggleable__control:checked~label.sk-toggleable__label {background-color: #d4ebff;}#sk-container-id-1 input.sk-hidden--visually {border: 0;clip: rect(1px 1px 1px 1px);clip: rect(1px, 1px, 1px, 1px);height: 1px;margin: -1px;overflow: hidden;padding: 0;position: absolute;width: 1px;}#sk-container-id-1 div.sk-estimator {font-family: monospace;background-color: #f0f8ff;border: 1px dotted black;border-radius: 0.25em;box-sizing: border-box;margin-bottom: 0.5em;}#sk-container-id-1 div.sk-estimator:hover {background-color: #d4ebff;}#sk-container-id-1 div.sk-parallel-item::after {content: \"\";width: 100%;border-bottom: 1px solid gray;flex-grow: 1;}#sk-container-id-1 div.sk-label:hover label.sk-toggleable__label {background-color: #d4ebff;}#sk-container-id-1 div.sk-serial::before {content: \"\";position: absolute;border-left: 1px solid gray;box-sizing: border-box;top: 0;bottom: 0;left: 50%;z-index: 0;}#sk-container-id-1 div.sk-serial {display: flex;flex-direction: column;align-items: center;background-color: white;padding-right: 0.2em;padding-left: 0.2em;position: relative;}#sk-container-id-1 div.sk-item {position: relative;z-index: 1;}#sk-container-id-1 div.sk-parallel {display: flex;align-items: stretch;justify-content: center;background-color: white;position: relative;}#sk-container-id-1 div.sk-item::before, #sk-container-id-1 div.sk-parallel-item::before {content: \"\";position: absolute;border-left: 1px solid gray;box-sizing: border-box;top: 0;bottom: 0;left: 50%;z-index: -1;}#sk-container-id-1 div.sk-parallel-item {display: flex;flex-direction: column;z-index: 1;position: relative;background-color: white;}#sk-container-id-1 div.sk-parallel-item:first-child::after {align-self: flex-end;width: 50%;}#sk-container-id-1 div.sk-parallel-item:last-child::after {align-self: flex-start;width: 50%;}#sk-container-id-1 div.sk-parallel-item:only-child::after {width: 0;}#sk-container-id-1 div.sk-dashed-wrapped {border: 1px dashed gray;margin: 0 0.4em 0.5em 0.4em;box-sizing: border-box;padding-bottom: 0.4em;background-color: white;}#sk-container-id-1 div.sk-label label {font-family: monospace;font-weight: bold;display: inline-block;line-height: 1.2em;}#sk-container-id-1 div.sk-label-container {text-align: center;}#sk-container-id-1 div.sk-container {/* jupyter's `normalize.less` sets `[hidden] { display: none; }` but bootstrap.min.css set `[hidden] { display: none !important; }` so we also need the `!important` here to be able to override the default hidden behavior on the sphinx rendered scikit-learn.org. See: https://github.com/scikit-learn/scikit-learn/issues/21755 */display: inline-block !important;position: relative;}#sk-container-id-1 div.sk-text-repr-fallback {display: none;}</style><div id=\"sk-container-id-1\" class=\"sk-top-container\"><div class=\"sk-text-repr-fallback\"><pre>CountVectorizer(max_df=0.9)</pre><b>In a Jupyter environment, please rerun this cell to show the HTML representation or trust the notebook. <br />On GitHub, the HTML representation is unable to render, please try loading this page with nbviewer.org.</b></div><div class=\"sk-container\" hidden><div class=\"sk-item\"><div class=\"sk-estimator sk-toggleable\"><input class=\"sk-toggleable__control sk-hidden--visually\" id=\"sk-estimator-id-1\" type=\"checkbox\" checked><label for=\"sk-estimator-id-1\" class=\"sk-toggleable__label sk-toggleable__label-arrow\">CountVectorizer</label><div class=\"sk-toggleable__content\"><pre>CountVectorizer(max_df=0.9)</pre></div></div></div></div></div>"
      ],
      "text/plain": [
       "CountVectorizer(max_df=0.9)"
      ]
     },
     "execution_count": 15,
     "metadata": {},
     "output_type": "execute_result"
    }
   ],
   "source": [
    "cv = CountVectorizer(min_df = 1, max_df = 0.9)\n",
    "cv"
   ]
  },
  {
   "cell_type": "code",
   "execution_count": 16,
   "id": "8a63746b",
   "metadata": {},
   "outputs": [],
   "source": [
    "X = cv.fit_transform(data[\"Text\"])"
   ]
  },
  {
   "cell_type": "code",
   "execution_count": 17,
   "id": "e09b2608",
   "metadata": {},
   "outputs": [
    {
     "name": "stderr",
     "output_type": "stream",
     "text": [
      "C:\\Users\\Home\\anaconda3\\lib\\site-packages\\sklearn\\utils\\deprecation.py:87: FutureWarning: Function get_feature_names is deprecated; get_feature_names is deprecated in 1.0 and will be removed in 1.2. Please use get_feature_names_out instead.\n",
      "  warnings.warn(msg, category=FutureWarning)\n"
     ]
    }
   ],
   "source": [
    "word_freq_df = pd.DataFrame({'term': cv.get_feature_names(), 'occurrences':np.asarray(X.sum(axis=0)).ravel().tolist()})"
   ]
  },
  {
   "cell_type": "code",
   "execution_count": 18,
   "id": "982685fa",
   "metadata": {},
   "outputs": [
    {
     "data": {
      "text/html": [
       "<div>\n",
       "<style scoped>\n",
       "    .dataframe tbody tr th:only-of-type {\n",
       "        vertical-align: middle;\n",
       "    }\n",
       "\n",
       "    .dataframe tbody tr th {\n",
       "        vertical-align: top;\n",
       "    }\n",
       "\n",
       "    .dataframe thead th {\n",
       "        text-align: right;\n",
       "    }\n",
       "</style>\n",
       "<table border=\"1\" class=\"dataframe\">\n",
       "  <thead>\n",
       "    <tr style=\"text-align: right;\">\n",
       "      <th></th>\n",
       "      <th>term</th>\n",
       "      <th>occurrences</th>\n",
       "    </tr>\n",
       "  </thead>\n",
       "  <tbody>\n",
       "    <tr>\n",
       "      <th>0</th>\n",
       "      <td>aber</td>\n",
       "      <td>1</td>\n",
       "    </tr>\n",
       "    <tr>\n",
       "      <th>1</th>\n",
       "      <td>able</td>\n",
       "      <td>6</td>\n",
       "    </tr>\n",
       "    <tr>\n",
       "      <th>2</th>\n",
       "      <td>abo</td>\n",
       "      <td>1</td>\n",
       "    </tr>\n",
       "    <tr>\n",
       "      <th>3</th>\n",
       "      <td>aboard</td>\n",
       "      <td>1</td>\n",
       "    </tr>\n",
       "    <tr>\n",
       "      <th>4</th>\n",
       "      <td>abort</td>\n",
       "      <td>3</td>\n",
       "    </tr>\n",
       "    <tr>\n",
       "      <th>...</th>\n",
       "      <td>...</td>\n",
       "      <td>...</td>\n",
       "    </tr>\n",
       "    <tr>\n",
       "      <th>4456</th>\n",
       "      <td>zshauladventure</td>\n",
       "      <td>1</td>\n",
       "    </tr>\n",
       "    <tr>\n",
       "      <th>4457</th>\n",
       "      <td>zubinanary</td>\n",
       "      <td>1</td>\n",
       "    </tr>\n",
       "    <tr>\n",
       "      <th>4458</th>\n",
       "      <td>zwiebelbach</td>\n",
       "      <td>1</td>\n",
       "    </tr>\n",
       "    <tr>\n",
       "      <th>4459</th>\n",
       "      <td>zzcool</td>\n",
       "      <td>1</td>\n",
       "    </tr>\n",
       "    <tr>\n",
       "      <th>4460</th>\n",
       "      <td>ðogecoin</td>\n",
       "      <td>1</td>\n",
       "    </tr>\n",
       "  </tbody>\n",
       "</table>\n",
       "<p>4461 rows × 2 columns</p>\n",
       "</div>"
      ],
      "text/plain": [
       "                 term  occurrences\n",
       "0                aber            1\n",
       "1                able            6\n",
       "2                 abo            1\n",
       "3              aboard            1\n",
       "4               abort            3\n",
       "...               ...          ...\n",
       "4456  zshauladventure            1\n",
       "4457       zubinanary            1\n",
       "4458      zwiebelbach            1\n",
       "4459           zzcool            1\n",
       "4460         ðogecoin            1\n",
       "\n",
       "[4461 rows x 2 columns]"
      ]
     },
     "execution_count": 18,
     "metadata": {},
     "output_type": "execute_result"
    }
   ],
   "source": [
    "word_freq_df"
   ]
  },
  {
   "cell_type": "code",
   "execution_count": 19,
   "id": "3ccb9f16",
   "metadata": {},
   "outputs": [],
   "source": [
    "word_freq_df['frequency'] = word_freq_df['occurrences']/np.sum(word_freq_df['occurrences'])\n",
    "#print(word_freq_df.sort('occurrences',ascending = False).head())"
   ]
  },
  {
   "cell_type": "code",
   "execution_count": 20,
   "id": "ca8b525f",
   "metadata": {},
   "outputs": [
    {
     "data": {
      "text/plain": [
       "0       0.000075\n",
       "1       0.000449\n",
       "2       0.000075\n",
       "3       0.000075\n",
       "4       0.000224\n",
       "          ...   \n",
       "4456    0.000075\n",
       "4457    0.000075\n",
       "4458    0.000075\n",
       "4459    0.000075\n",
       "4460    0.000075\n",
       "Name: frequency, Length: 4461, dtype: float64"
      ]
     },
     "execution_count": 20,
     "metadata": {},
     "output_type": "execute_result"
    }
   ],
   "source": [
    "word_freq_df['frequency']"
   ]
  },
  {
   "cell_type": "code",
   "execution_count": 21,
   "id": "8ec3a9e6",
   "metadata": {},
   "outputs": [
    {
     "data": {
      "text/html": [
       "<div>\n",
       "<style scoped>\n",
       "    .dataframe tbody tr th:only-of-type {\n",
       "        vertical-align: middle;\n",
       "    }\n",
       "\n",
       "    .dataframe tbody tr th {\n",
       "        vertical-align: top;\n",
       "    }\n",
       "\n",
       "    .dataframe thead th {\n",
       "        text-align: right;\n",
       "    }\n",
       "</style>\n",
       "<table border=\"1\" class=\"dataframe\">\n",
       "  <thead>\n",
       "    <tr style=\"text-align: right;\">\n",
       "      <th></th>\n",
       "      <th>term</th>\n",
       "      <th>occurrences</th>\n",
       "      <th>frequency</th>\n",
       "    </tr>\n",
       "  </thead>\n",
       "  <tbody>\n",
       "    <tr>\n",
       "      <th>0</th>\n",
       "      <td>aber</td>\n",
       "      <td>1</td>\n",
       "      <td>0.000075</td>\n",
       "    </tr>\n",
       "    <tr>\n",
       "      <th>1</th>\n",
       "      <td>able</td>\n",
       "      <td>6</td>\n",
       "      <td>0.000449</td>\n",
       "    </tr>\n",
       "    <tr>\n",
       "      <th>2</th>\n",
       "      <td>abo</td>\n",
       "      <td>1</td>\n",
       "      <td>0.000075</td>\n",
       "    </tr>\n",
       "    <tr>\n",
       "      <th>3</th>\n",
       "      <td>aboard</td>\n",
       "      <td>1</td>\n",
       "      <td>0.000075</td>\n",
       "    </tr>\n",
       "    <tr>\n",
       "      <th>4</th>\n",
       "      <td>abort</td>\n",
       "      <td>3</td>\n",
       "      <td>0.000224</td>\n",
       "    </tr>\n",
       "    <tr>\n",
       "      <th>...</th>\n",
       "      <td>...</td>\n",
       "      <td>...</td>\n",
       "      <td>...</td>\n",
       "    </tr>\n",
       "    <tr>\n",
       "      <th>4456</th>\n",
       "      <td>zshauladventure</td>\n",
       "      <td>1</td>\n",
       "      <td>0.000075</td>\n",
       "    </tr>\n",
       "    <tr>\n",
       "      <th>4457</th>\n",
       "      <td>zubinanary</td>\n",
       "      <td>1</td>\n",
       "      <td>0.000075</td>\n",
       "    </tr>\n",
       "    <tr>\n",
       "      <th>4458</th>\n",
       "      <td>zwiebelbach</td>\n",
       "      <td>1</td>\n",
       "      <td>0.000075</td>\n",
       "    </tr>\n",
       "    <tr>\n",
       "      <th>4459</th>\n",
       "      <td>zzcool</td>\n",
       "      <td>1</td>\n",
       "      <td>0.000075</td>\n",
       "    </tr>\n",
       "    <tr>\n",
       "      <th>4460</th>\n",
       "      <td>ðogecoin</td>\n",
       "      <td>1</td>\n",
       "      <td>0.000075</td>\n",
       "    </tr>\n",
       "  </tbody>\n",
       "</table>\n",
       "<p>4461 rows × 3 columns</p>\n",
       "</div>"
      ],
      "text/plain": [
       "                 term  occurrences  frequency\n",
       "0                aber            1   0.000075\n",
       "1                able            6   0.000449\n",
       "2                 abo            1   0.000075\n",
       "3              aboard            1   0.000075\n",
       "4               abort            3   0.000224\n",
       "...               ...          ...        ...\n",
       "4456  zshauladventure            1   0.000075\n",
       "4457       zubinanary            1   0.000075\n",
       "4458      zwiebelbach            1   0.000075\n",
       "4459           zzcool            1   0.000075\n",
       "4460         ðogecoin            1   0.000075\n",
       "\n",
       "[4461 rows x 3 columns]"
      ]
     },
     "execution_count": 21,
     "metadata": {},
     "output_type": "execute_result"
    }
   ],
   "source": [
    "word_freq_df"
   ]
  },
  {
   "cell_type": "markdown",
   "id": "0ad1d8c0",
   "metadata": {},
   "source": [
    "# TFIDF - Term frequency inverse Document Frequencyt"
   ]
  },
  {
   "cell_type": "code",
   "execution_count": 22,
   "id": "999e72a2",
   "metadata": {},
   "outputs": [],
   "source": [
    "from sklearn.feature_extraction.text import TfidfVectorizer"
   ]
  },
  {
   "cell_type": "code",
   "execution_count": 23,
   "id": "ee941331",
   "metadata": {},
   "outputs": [],
   "source": [
    "cv = TfidfVectorizer(stop_words='english', max_features= 1000, max_df = 0.5, smooth_idf=True)#keep top 1000 words"
   ]
  },
  {
   "cell_type": "code",
   "execution_count": 24,
   "id": "4eb8f628",
   "metadata": {},
   "outputs": [],
   "source": [
    "doc_vec = cv.fit_transform(data[\"Text\"])"
   ]
  },
  {
   "cell_type": "code",
   "execution_count": 25,
   "id": "11cbad54",
   "metadata": {},
   "outputs": [
    {
     "name": "stderr",
     "output_type": "stream",
     "text": [
      "C:\\Users\\Home\\anaconda3\\lib\\site-packages\\sklearn\\utils\\deprecation.py:87: FutureWarning: Function get_feature_names is deprecated; get_feature_names is deprecated in 1.0 and will be removed in 1.2. Please use get_feature_names_out instead.\n",
      "  warnings.warn(msg, category=FutureWarning)\n"
     ]
    }
   ],
   "source": [
    "names_features = cv.get_feature_names()\n",
    "dense = doc_vec.todense()\n",
    "denselist = dense.tolist()\n",
    "df = pd.DataFrame(denselist, columns = names_features)"
   ]
  },
  {
   "cell_type": "code",
   "execution_count": 26,
   "id": "aba082af",
   "metadata": {},
   "outputs": [
    {
     "data": {
      "text/html": [
       "<div>\n",
       "<style scoped>\n",
       "    .dataframe tbody tr th:only-of-type {\n",
       "        vertical-align: middle;\n",
       "    }\n",
       "\n",
       "    .dataframe tbody tr th {\n",
       "        vertical-align: top;\n",
       "    }\n",
       "\n",
       "    .dataframe thead th {\n",
       "        text-align: right;\n",
       "    }\n",
       "</style>\n",
       "<table border=\"1\" class=\"dataframe\">\n",
       "  <thead>\n",
       "    <tr style=\"text-align: right;\">\n",
       "      <th></th>\n",
       "      <th>able</th>\n",
       "      <th>abort</th>\n",
       "      <th>absolutely</th>\n",
       "      <th>access</th>\n",
       "      <th>accurate</th>\n",
       "      <th>actual</th>\n",
       "      <th>actually</th>\n",
       "      <th>adamklotz</th>\n",
       "      <th>add</th>\n",
       "      <th>adding</th>\n",
       "      <th>...</th>\n",
       "      <th>yahoofinance</th>\n",
       "      <th>yeah</th>\n",
       "      <th>year</th>\n",
       "      <th>years</th>\n",
       "      <th>yes</th>\n",
       "      <th>yesterday</th>\n",
       "      <th>yourfavgas</th>\n",
       "      <th>yup</th>\n",
       "      <th>zero</th>\n",
       "      <th>zone</th>\n",
       "    </tr>\n",
       "  </thead>\n",
       "  <tbody>\n",
       "    <tr>\n",
       "      <th>0</th>\n",
       "      <td>0.0</td>\n",
       "      <td>0.0</td>\n",
       "      <td>0.0</td>\n",
       "      <td>0.0</td>\n",
       "      <td>0.0</td>\n",
       "      <td>0.0</td>\n",
       "      <td>0.0</td>\n",
       "      <td>0.0</td>\n",
       "      <td>0.0</td>\n",
       "      <td>0.0</td>\n",
       "      <td>...</td>\n",
       "      <td>0.0</td>\n",
       "      <td>0.0</td>\n",
       "      <td>0.000000</td>\n",
       "      <td>0.0</td>\n",
       "      <td>0.0</td>\n",
       "      <td>0.0</td>\n",
       "      <td>0.0</td>\n",
       "      <td>0.0</td>\n",
       "      <td>0.0</td>\n",
       "      <td>0.0</td>\n",
       "    </tr>\n",
       "    <tr>\n",
       "      <th>1</th>\n",
       "      <td>0.0</td>\n",
       "      <td>0.0</td>\n",
       "      <td>0.0</td>\n",
       "      <td>0.0</td>\n",
       "      <td>0.0</td>\n",
       "      <td>0.0</td>\n",
       "      <td>0.0</td>\n",
       "      <td>0.0</td>\n",
       "      <td>0.0</td>\n",
       "      <td>0.0</td>\n",
       "      <td>...</td>\n",
       "      <td>0.0</td>\n",
       "      <td>0.0</td>\n",
       "      <td>0.000000</td>\n",
       "      <td>0.0</td>\n",
       "      <td>0.0</td>\n",
       "      <td>0.0</td>\n",
       "      <td>0.0</td>\n",
       "      <td>0.0</td>\n",
       "      <td>0.0</td>\n",
       "      <td>0.0</td>\n",
       "    </tr>\n",
       "    <tr>\n",
       "      <th>2</th>\n",
       "      <td>0.0</td>\n",
       "      <td>0.0</td>\n",
       "      <td>0.0</td>\n",
       "      <td>0.0</td>\n",
       "      <td>0.0</td>\n",
       "      <td>0.0</td>\n",
       "      <td>0.0</td>\n",
       "      <td>0.0</td>\n",
       "      <td>0.0</td>\n",
       "      <td>0.0</td>\n",
       "      <td>...</td>\n",
       "      <td>0.0</td>\n",
       "      <td>0.0</td>\n",
       "      <td>0.000000</td>\n",
       "      <td>0.0</td>\n",
       "      <td>0.0</td>\n",
       "      <td>0.0</td>\n",
       "      <td>0.0</td>\n",
       "      <td>0.0</td>\n",
       "      <td>0.0</td>\n",
       "      <td>0.0</td>\n",
       "    </tr>\n",
       "    <tr>\n",
       "      <th>3</th>\n",
       "      <td>0.0</td>\n",
       "      <td>0.0</td>\n",
       "      <td>0.0</td>\n",
       "      <td>0.0</td>\n",
       "      <td>0.0</td>\n",
       "      <td>0.0</td>\n",
       "      <td>0.0</td>\n",
       "      <td>0.0</td>\n",
       "      <td>0.0</td>\n",
       "      <td>0.0</td>\n",
       "      <td>...</td>\n",
       "      <td>0.0</td>\n",
       "      <td>0.0</td>\n",
       "      <td>0.000000</td>\n",
       "      <td>0.0</td>\n",
       "      <td>0.0</td>\n",
       "      <td>0.0</td>\n",
       "      <td>0.0</td>\n",
       "      <td>0.0</td>\n",
       "      <td>0.0</td>\n",
       "      <td>0.0</td>\n",
       "    </tr>\n",
       "    <tr>\n",
       "      <th>4</th>\n",
       "      <td>0.0</td>\n",
       "      <td>0.0</td>\n",
       "      <td>0.0</td>\n",
       "      <td>0.0</td>\n",
       "      <td>0.0</td>\n",
       "      <td>0.0</td>\n",
       "      <td>0.0</td>\n",
       "      <td>0.0</td>\n",
       "      <td>0.0</td>\n",
       "      <td>0.0</td>\n",
       "      <td>...</td>\n",
       "      <td>0.0</td>\n",
       "      <td>0.0</td>\n",
       "      <td>0.356779</td>\n",
       "      <td>0.0</td>\n",
       "      <td>0.0</td>\n",
       "      <td>0.0</td>\n",
       "      <td>0.0</td>\n",
       "      <td>0.0</td>\n",
       "      <td>0.0</td>\n",
       "      <td>0.0</td>\n",
       "    </tr>\n",
       "    <tr>\n",
       "      <th>...</th>\n",
       "      <td>...</td>\n",
       "      <td>...</td>\n",
       "      <td>...</td>\n",
       "      <td>...</td>\n",
       "      <td>...</td>\n",
       "      <td>...</td>\n",
       "      <td>...</td>\n",
       "      <td>...</td>\n",
       "      <td>...</td>\n",
       "      <td>...</td>\n",
       "      <td>...</td>\n",
       "      <td>...</td>\n",
       "      <td>...</td>\n",
       "      <td>...</td>\n",
       "      <td>...</td>\n",
       "      <td>...</td>\n",
       "      <td>...</td>\n",
       "      <td>...</td>\n",
       "      <td>...</td>\n",
       "      <td>...</td>\n",
       "      <td>...</td>\n",
       "    </tr>\n",
       "    <tr>\n",
       "      <th>1994</th>\n",
       "      <td>0.0</td>\n",
       "      <td>0.0</td>\n",
       "      <td>0.0</td>\n",
       "      <td>0.0</td>\n",
       "      <td>0.0</td>\n",
       "      <td>0.0</td>\n",
       "      <td>0.0</td>\n",
       "      <td>0.0</td>\n",
       "      <td>0.0</td>\n",
       "      <td>0.0</td>\n",
       "      <td>...</td>\n",
       "      <td>0.0</td>\n",
       "      <td>0.0</td>\n",
       "      <td>0.000000</td>\n",
       "      <td>0.0</td>\n",
       "      <td>0.0</td>\n",
       "      <td>0.0</td>\n",
       "      <td>0.0</td>\n",
       "      <td>0.0</td>\n",
       "      <td>0.0</td>\n",
       "      <td>0.0</td>\n",
       "    </tr>\n",
       "    <tr>\n",
       "      <th>1995</th>\n",
       "      <td>0.0</td>\n",
       "      <td>0.0</td>\n",
       "      <td>0.0</td>\n",
       "      <td>0.0</td>\n",
       "      <td>0.0</td>\n",
       "      <td>0.0</td>\n",
       "      <td>0.0</td>\n",
       "      <td>0.0</td>\n",
       "      <td>0.0</td>\n",
       "      <td>0.0</td>\n",
       "      <td>...</td>\n",
       "      <td>0.0</td>\n",
       "      <td>0.0</td>\n",
       "      <td>0.000000</td>\n",
       "      <td>0.0</td>\n",
       "      <td>0.0</td>\n",
       "      <td>0.0</td>\n",
       "      <td>0.0</td>\n",
       "      <td>0.0</td>\n",
       "      <td>0.0</td>\n",
       "      <td>0.0</td>\n",
       "    </tr>\n",
       "    <tr>\n",
       "      <th>1996</th>\n",
       "      <td>0.0</td>\n",
       "      <td>0.0</td>\n",
       "      <td>0.0</td>\n",
       "      <td>0.0</td>\n",
       "      <td>0.0</td>\n",
       "      <td>0.0</td>\n",
       "      <td>0.0</td>\n",
       "      <td>0.0</td>\n",
       "      <td>0.0</td>\n",
       "      <td>0.0</td>\n",
       "      <td>...</td>\n",
       "      <td>0.0</td>\n",
       "      <td>0.0</td>\n",
       "      <td>0.000000</td>\n",
       "      <td>0.0</td>\n",
       "      <td>0.0</td>\n",
       "      <td>0.0</td>\n",
       "      <td>0.0</td>\n",
       "      <td>0.0</td>\n",
       "      <td>0.0</td>\n",
       "      <td>0.0</td>\n",
       "    </tr>\n",
       "    <tr>\n",
       "      <th>1997</th>\n",
       "      <td>0.0</td>\n",
       "      <td>0.0</td>\n",
       "      <td>0.0</td>\n",
       "      <td>0.0</td>\n",
       "      <td>0.0</td>\n",
       "      <td>0.0</td>\n",
       "      <td>0.0</td>\n",
       "      <td>0.0</td>\n",
       "      <td>0.0</td>\n",
       "      <td>0.0</td>\n",
       "      <td>...</td>\n",
       "      <td>0.0</td>\n",
       "      <td>0.0</td>\n",
       "      <td>0.000000</td>\n",
       "      <td>0.0</td>\n",
       "      <td>0.0</td>\n",
       "      <td>0.0</td>\n",
       "      <td>0.0</td>\n",
       "      <td>0.0</td>\n",
       "      <td>0.0</td>\n",
       "      <td>0.0</td>\n",
       "    </tr>\n",
       "    <tr>\n",
       "      <th>1998</th>\n",
       "      <td>0.0</td>\n",
       "      <td>0.0</td>\n",
       "      <td>0.0</td>\n",
       "      <td>0.0</td>\n",
       "      <td>0.0</td>\n",
       "      <td>0.0</td>\n",
       "      <td>0.0</td>\n",
       "      <td>0.0</td>\n",
       "      <td>0.0</td>\n",
       "      <td>0.0</td>\n",
       "      <td>...</td>\n",
       "      <td>0.0</td>\n",
       "      <td>0.0</td>\n",
       "      <td>0.000000</td>\n",
       "      <td>0.0</td>\n",
       "      <td>0.0</td>\n",
       "      <td>0.0</td>\n",
       "      <td>0.0</td>\n",
       "      <td>0.0</td>\n",
       "      <td>0.0</td>\n",
       "      <td>0.0</td>\n",
       "    </tr>\n",
       "  </tbody>\n",
       "</table>\n",
       "<p>1999 rows × 1000 columns</p>\n",
       "</div>"
      ],
      "text/plain": [
       "      able  abort  absolutely  access  accurate  actual  actually  adamklotz  \\\n",
       "0      0.0    0.0         0.0     0.0       0.0     0.0       0.0        0.0   \n",
       "1      0.0    0.0         0.0     0.0       0.0     0.0       0.0        0.0   \n",
       "2      0.0    0.0         0.0     0.0       0.0     0.0       0.0        0.0   \n",
       "3      0.0    0.0         0.0     0.0       0.0     0.0       0.0        0.0   \n",
       "4      0.0    0.0         0.0     0.0       0.0     0.0       0.0        0.0   \n",
       "...    ...    ...         ...     ...       ...     ...       ...        ...   \n",
       "1994   0.0    0.0         0.0     0.0       0.0     0.0       0.0        0.0   \n",
       "1995   0.0    0.0         0.0     0.0       0.0     0.0       0.0        0.0   \n",
       "1996   0.0    0.0         0.0     0.0       0.0     0.0       0.0        0.0   \n",
       "1997   0.0    0.0         0.0     0.0       0.0     0.0       0.0        0.0   \n",
       "1998   0.0    0.0         0.0     0.0       0.0     0.0       0.0        0.0   \n",
       "\n",
       "      add  adding  ...  yahoofinance  yeah      year  years  yes  yesterday  \\\n",
       "0     0.0     0.0  ...           0.0   0.0  0.000000    0.0  0.0        0.0   \n",
       "1     0.0     0.0  ...           0.0   0.0  0.000000    0.0  0.0        0.0   \n",
       "2     0.0     0.0  ...           0.0   0.0  0.000000    0.0  0.0        0.0   \n",
       "3     0.0     0.0  ...           0.0   0.0  0.000000    0.0  0.0        0.0   \n",
       "4     0.0     0.0  ...           0.0   0.0  0.356779    0.0  0.0        0.0   \n",
       "...   ...     ...  ...           ...   ...       ...    ...  ...        ...   \n",
       "1994  0.0     0.0  ...           0.0   0.0  0.000000    0.0  0.0        0.0   \n",
       "1995  0.0     0.0  ...           0.0   0.0  0.000000    0.0  0.0        0.0   \n",
       "1996  0.0     0.0  ...           0.0   0.0  0.000000    0.0  0.0        0.0   \n",
       "1997  0.0     0.0  ...           0.0   0.0  0.000000    0.0  0.0        0.0   \n",
       "1998  0.0     0.0  ...           0.0   0.0  0.000000    0.0  0.0        0.0   \n",
       "\n",
       "      yourfavgas  yup  zero  zone  \n",
       "0            0.0  0.0   0.0   0.0  \n",
       "1            0.0  0.0   0.0   0.0  \n",
       "2            0.0  0.0   0.0   0.0  \n",
       "3            0.0  0.0   0.0   0.0  \n",
       "4            0.0  0.0   0.0   0.0  \n",
       "...          ...  ...   ...   ...  \n",
       "1994         0.0  0.0   0.0   0.0  \n",
       "1995         0.0  0.0   0.0   0.0  \n",
       "1996         0.0  0.0   0.0   0.0  \n",
       "1997         0.0  0.0   0.0   0.0  \n",
       "1998         0.0  0.0   0.0   0.0  \n",
       "\n",
       "[1999 rows x 1000 columns]"
      ]
     },
     "execution_count": 26,
     "metadata": {},
     "output_type": "execute_result"
    }
   ],
   "source": [
    "df"
   ]
  },
  {
   "cell_type": "markdown",
   "id": "20613c68",
   "metadata": {},
   "source": [
    "# N-Grams"
   ]
  },
  {
   "cell_type": "code",
   "execution_count": 27,
   "id": "ad9d006e",
   "metadata": {},
   "outputs": [],
   "source": [
    "#Bi-gram\n",
    "def get_top_n2_words(corpus, n=None):\n",
    "    vec1 = CountVectorizer(ngram_range=(2,2),  #for tri-gram, put ngram_range=(3,3)\n",
    "        max_features=2000).fit(corpus)\n",
    "    bag_of_words = vec1.transform(corpus)\n",
    "    sum_words = bag_of_words.sum(axis=0) \n",
    "    words_freq = [(word, sum_words[0, idx]) for word, idx in     \n",
    "                  vec1.vocabulary_.items()]\n",
    "    words_freq =sorted(words_freq, key = lambda x: x[1], \n",
    "                reverse=True)\n",
    "    return words_freq[:n]"
   ]
  },
  {
   "cell_type": "code",
   "execution_count": 28,
   "id": "2abf5bfe",
   "metadata": {},
   "outputs": [
    {
     "data": {
      "text/html": [
       "<div>\n",
       "<style scoped>\n",
       "    .dataframe tbody tr th:only-of-type {\n",
       "        vertical-align: middle;\n",
       "    }\n",
       "\n",
       "    .dataframe tbody tr th {\n",
       "        vertical-align: top;\n",
       "    }\n",
       "\n",
       "    .dataframe thead th {\n",
       "        text-align: right;\n",
       "    }\n",
       "</style>\n",
       "<table border=\"1\" class=\"dataframe\">\n",
       "  <thead>\n",
       "    <tr style=\"text-align: right;\">\n",
       "      <th></th>\n",
       "      <th>Bi-gram</th>\n",
       "      <th>Freq</th>\n",
       "    </tr>\n",
       "  </thead>\n",
       "  <tbody>\n",
       "    <tr>\n",
       "      <th>0</th>\n",
       "      <td>rt spacex</td>\n",
       "      <td>71</td>\n",
       "    </tr>\n",
       "    <tr>\n",
       "      <th>1</th>\n",
       "      <td>we re</td>\n",
       "      <td>26</td>\n",
       "    </tr>\n",
       "    <tr>\n",
       "      <th>2</th>\n",
       "      <td>spacex falcon</td>\n",
       "      <td>17</td>\n",
       "    </tr>\n",
       "    <tr>\n",
       "      <th>3</th>\n",
       "      <td>erdayastronaut spacex</td>\n",
       "      <td>16</td>\n",
       "    </tr>\n",
       "    <tr>\n",
       "      <th>4</th>\n",
       "      <td>crew dragon</td>\n",
       "      <td>13</td>\n",
       "    </tr>\n",
       "    <tr>\n",
       "      <th>5</th>\n",
       "      <td>pretty much</td>\n",
       "      <td>12</td>\n",
       "    </tr>\n",
       "    <tr>\n",
       "      <th>6</th>\n",
       "      <td>rt nasa</td>\n",
       "      <td>12</td>\n",
       "    </tr>\n",
       "    <tr>\n",
       "      <th>7</th>\n",
       "      <td>waemd spacex</td>\n",
       "      <td>11</td>\n",
       "    </tr>\n",
       "    <tr>\n",
       "      <th>8</th>\n",
       "      <td>you re</td>\n",
       "      <td>10</td>\n",
       "    </tr>\n",
       "    <tr>\n",
       "      <th>9</th>\n",
       "      <td>giga berlin</td>\n",
       "      <td>10</td>\n",
       "    </tr>\n",
       "    <tr>\n",
       "      <th>10</th>\n",
       "      <td>first stage</td>\n",
       "      <td>10</td>\n",
       "    </tr>\n",
       "    <tr>\n",
       "      <th>11</th>\n",
       "      <td>teslaratiteam teslarati</td>\n",
       "      <td>10</td>\n",
       "    </tr>\n",
       "    <tr>\n",
       "      <th>12</th>\n",
       "      <td>nasa spacex</td>\n",
       "      <td>9</td>\n",
       "    </tr>\n",
       "    <tr>\n",
       "      <th>13</th>\n",
       "      <td>falcon first</td>\n",
       "      <td>9</td>\n",
       "    </tr>\n",
       "    <tr>\n",
       "      <th>14</th>\n",
       "      <td>next week</td>\n",
       "      <td>9</td>\n",
       "    </tr>\n",
       "    <tr>\n",
       "      <th>15</th>\n",
       "      <td>erdayastronaut flcnhvy</td>\n",
       "      <td>9</td>\n",
       "    </tr>\n",
       "    <tr>\n",
       "      <th>16</th>\n",
       "      <td>they re</td>\n",
       "      <td>8</td>\n",
       "    </tr>\n",
       "    <tr>\n",
       "      <th>17</th>\n",
       "      <td>flcnhvy tesla</td>\n",
       "      <td>8</td>\n",
       "    </tr>\n",
       "    <tr>\n",
       "      <th>18</th>\n",
       "      <td>coming soon</td>\n",
       "      <td>8</td>\n",
       "    </tr>\n",
       "    <tr>\n",
       "      <th>19</th>\n",
       "      <td>spacex dragon</td>\n",
       "      <td>8</td>\n",
       "    </tr>\n",
       "    <tr>\n",
       "      <th>20</th>\n",
       "      <td>static fire</td>\n",
       "      <td>8</td>\n",
       "    </tr>\n",
       "    <tr>\n",
       "      <th>21</th>\n",
       "      <td>thesheetztweetz waemd</td>\n",
       "      <td>8</td>\n",
       "    </tr>\n",
       "    <tr>\n",
       "      <th>22</th>\n",
       "      <td>astrobehnken astrodoug</td>\n",
       "      <td>8</td>\n",
       "    </tr>\n",
       "    <tr>\n",
       "      <th>23</th>\n",
       "      <td>next year</td>\n",
       "      <td>7</td>\n",
       "    </tr>\n",
       "    <tr>\n",
       "      <th>24</th>\n",
       "      <td>falcon launch</td>\n",
       "      <td>7</td>\n",
       "    </tr>\n",
       "    <tr>\n",
       "      <th>25</th>\n",
       "      <td>great game</td>\n",
       "      <td>7</td>\n",
       "    </tr>\n",
       "    <tr>\n",
       "      <th>26</th>\n",
       "      <td>next month</td>\n",
       "      <td>7</td>\n",
       "    </tr>\n",
       "    <tr>\n",
       "      <th>27</th>\n",
       "      <td>wholemarsblog yes</td>\n",
       "      <td>7</td>\n",
       "    </tr>\n",
       "    <tr>\n",
       "      <th>28</th>\n",
       "      <td>course still</td>\n",
       "      <td>7</td>\n",
       "    </tr>\n",
       "    <tr>\n",
       "      <th>29</th>\n",
       "      <td>still love</td>\n",
       "      <td>7</td>\n",
       "    </tr>\n",
       "    <tr>\n",
       "      <th>30</th>\n",
       "      <td>tobyliiiiiiiiii erdayastronaut</td>\n",
       "      <td>7</td>\n",
       "    </tr>\n",
       "    <tr>\n",
       "      <th>31</th>\n",
       "      <td>one day</td>\n",
       "      <td>7</td>\n",
       "    </tr>\n",
       "    <tr>\n",
       "      <th>32</th>\n",
       "      <td>rt tesla</td>\n",
       "      <td>7</td>\n",
       "    </tr>\n",
       "    <tr>\n",
       "      <th>33</th>\n",
       "      <td>ercxspace spacex</td>\n",
       "      <td>7</td>\n",
       "    </tr>\n",
       "    <tr>\n",
       "      <th>34</th>\n",
       "      <td>erdayastronaut yeah</td>\n",
       "      <td>7</td>\n",
       "    </tr>\n",
       "    <tr>\n",
       "      <th>35</th>\n",
       "      <td>marcushousegame felixschlang</td>\n",
       "      <td>7</td>\n",
       "    </tr>\n",
       "    <tr>\n",
       "      <th>36</th>\n",
       "      <td>first operational</td>\n",
       "      <td>7</td>\n",
       "    </tr>\n",
       "    <tr>\n",
       "      <th>37</th>\n",
       "      <td>teslarati tesla</td>\n",
       "      <td>7</td>\n",
       "    </tr>\n",
       "    <tr>\n",
       "      <th>38</th>\n",
       "      <td>ppathole thesheetztweetz</td>\n",
       "      <td>7</td>\n",
       "    </tr>\n",
       "    <tr>\n",
       "      <th>39</th>\n",
       "      <td>spacex spacexstarlink</td>\n",
       "      <td>7</td>\n",
       "    </tr>\n",
       "    <tr>\n",
       "      <th>40</th>\n",
       "      <td>erdayastronaut nasaspaceflight</td>\n",
       "      <td>7</td>\n",
       "    </tr>\n",
       "    <tr>\n",
       "      <th>41</th>\n",
       "      <td>spacex nasa</td>\n",
       "      <td>6</td>\n",
       "    </tr>\n",
       "    <tr>\n",
       "      <th>42</th>\n",
       "      <td>stage landed</td>\n",
       "      <td>6</td>\n",
       "    </tr>\n",
       "    <tr>\n",
       "      <th>43</th>\n",
       "      <td>spacex liftoff</td>\n",
       "      <td>6</td>\n",
       "    </tr>\n",
       "    <tr>\n",
       "      <th>44</th>\n",
       "      <td>good point</td>\n",
       "      <td>6</td>\n",
       "    </tr>\n",
       "    <tr>\n",
       "      <th>45</th>\n",
       "      <td>nasaspaceflight bocachicagal</td>\n",
       "      <td>6</td>\n",
       "    </tr>\n",
       "    <tr>\n",
       "      <th>46</th>\n",
       "      <td>nasaspaceflight erdayastronaut</td>\n",
       "      <td>6</td>\n",
       "    </tr>\n",
       "    <tr>\n",
       "      <th>47</th>\n",
       "      <td>ppathole erdayastronaut</td>\n",
       "      <td>6</td>\n",
       "    </tr>\n",
       "    <tr>\n",
       "      <th>48</th>\n",
       "      <td>we ll</td>\n",
       "      <td>6</td>\n",
       "    </tr>\n",
       "    <tr>\n",
       "      <th>49</th>\n",
       "      <td>body flaps</td>\n",
       "      <td>6</td>\n",
       "    </tr>\n",
       "  </tbody>\n",
       "</table>\n",
       "</div>"
      ],
      "text/plain": [
       "                           Bi-gram  Freq\n",
       "0                        rt spacex    71\n",
       "1                            we re    26\n",
       "2                    spacex falcon    17\n",
       "3            erdayastronaut spacex    16\n",
       "4                      crew dragon    13\n",
       "5                      pretty much    12\n",
       "6                          rt nasa    12\n",
       "7                     waemd spacex    11\n",
       "8                           you re    10\n",
       "9                      giga berlin    10\n",
       "10                     first stage    10\n",
       "11         teslaratiteam teslarati    10\n",
       "12                     nasa spacex     9\n",
       "13                    falcon first     9\n",
       "14                       next week     9\n",
       "15          erdayastronaut flcnhvy     9\n",
       "16                         they re     8\n",
       "17                   flcnhvy tesla     8\n",
       "18                     coming soon     8\n",
       "19                   spacex dragon     8\n",
       "20                     static fire     8\n",
       "21           thesheetztweetz waemd     8\n",
       "22          astrobehnken astrodoug     8\n",
       "23                       next year     7\n",
       "24                   falcon launch     7\n",
       "25                      great game     7\n",
       "26                      next month     7\n",
       "27               wholemarsblog yes     7\n",
       "28                    course still     7\n",
       "29                      still love     7\n",
       "30  tobyliiiiiiiiii erdayastronaut     7\n",
       "31                         one day     7\n",
       "32                        rt tesla     7\n",
       "33                ercxspace spacex     7\n",
       "34             erdayastronaut yeah     7\n",
       "35    marcushousegame felixschlang     7\n",
       "36               first operational     7\n",
       "37                 teslarati tesla     7\n",
       "38        ppathole thesheetztweetz     7\n",
       "39           spacex spacexstarlink     7\n",
       "40  erdayastronaut nasaspaceflight     7\n",
       "41                     spacex nasa     6\n",
       "42                    stage landed     6\n",
       "43                  spacex liftoff     6\n",
       "44                      good point     6\n",
       "45    nasaspaceflight bocachicagal     6\n",
       "46  nasaspaceflight erdayastronaut     6\n",
       "47         ppathole erdayastronaut     6\n",
       "48                           we ll     6\n",
       "49                      body flaps     6"
      ]
     },
     "execution_count": 28,
     "metadata": {},
     "output_type": "execute_result"
    }
   ],
   "source": [
    "top2_words = get_top_n2_words(data[\"Text\"], n=200) #top 200\n",
    "top2_df = pd.DataFrame(top2_words)\n",
    "top2_df.columns=[\"Bi-gram\", \"Freq\"]\n",
    "top2_df.head(50)"
   ]
  },
  {
   "cell_type": "markdown",
   "id": "8fa2aa5e",
   "metadata": {},
   "source": [
    "# Bi-gram plot"
   ]
  },
  {
   "cell_type": "code",
   "execution_count": 29,
   "id": "51078f1b",
   "metadata": {},
   "outputs": [],
   "source": [
    "import matplotlib.pyplot as plt\n",
    "import seaborn as sns"
   ]
  },
  {
   "cell_type": "code",
   "execution_count": 30,
   "id": "a9c3cf97",
   "metadata": {},
   "outputs": [
    {
     "data": {
      "text/plain": [
       "[Text(0, 0, 'rt spacex'),\n",
       " Text(1, 0, 'we re'),\n",
       " Text(2, 0, 'spacex falcon'),\n",
       " Text(3, 0, 'erdayastronaut spacex'),\n",
       " Text(4, 0, 'crew dragon'),\n",
       " Text(5, 0, 'pretty much'),\n",
       " Text(6, 0, 'rt nasa'),\n",
       " Text(7, 0, 'waemd spacex'),\n",
       " Text(8, 0, 'you re'),\n",
       " Text(9, 0, 'giga berlin'),\n",
       " Text(10, 0, 'first stage'),\n",
       " Text(11, 0, 'teslaratiteam teslarati'),\n",
       " Text(12, 0, 'nasa spacex'),\n",
       " Text(13, 0, 'falcon first'),\n",
       " Text(14, 0, 'next week'),\n",
       " Text(15, 0, 'erdayastronaut flcnhvy'),\n",
       " Text(16, 0, 'they re'),\n",
       " Text(17, 0, 'flcnhvy tesla'),\n",
       " Text(18, 0, 'coming soon'),\n",
       " Text(19, 0, 'spacex dragon')]"
      ]
     },
     "execution_count": 30,
     "metadata": {},
     "output_type": "execute_result"
    },
    {
     "data": {
      "image/png": "[encoded data removed]",
      "text/plain": [
       "<Figure size 720x360 with 1 Axes>"
      ]
     },
     "metadata": {
      "needs_background": "light"
     },
     "output_type": "display_data"
    }
   ],
   "source": [
    "top20_bigram = top2_df.iloc[0:20,:]\n",
    "fig = plt.figure(figsize = (10, 5))\n",
    "plot=sns.barplot(x=top20_bigram[\"Bi-gram\"],y=top20_bigram[\"Freq\"])\n",
    "plot.set_xticklabels(rotation=45,labels = top20_bigram[\"Bi-gram\"])"
   ]
  },
  {
   "cell_type": "markdown",
   "id": "60295e50",
   "metadata": {},
   "source": [
    "# Tri-gram"
   ]
  },
  {
   "cell_type": "code",
   "execution_count": 31,
   "id": "223f3348",
   "metadata": {},
   "outputs": [],
   "source": [
    "def get_top_n3_words(corpus, n=None):\n",
    "    vec1 = CountVectorizer(ngram_range=(3,3), \n",
    "           max_features=2000).fit(corpus)\n",
    "    bag_of_words = vec1.transform(corpus)\n",
    "    sum_words = bag_of_words.sum(axis=0) \n",
    "    words_freq = [(word, sum_words[0, idx]) for word, idx in     \n",
    "                  vec1.vocabulary_.items()]\n",
    "    words_freq =sorted(words_freq, key = lambda x: x[1], \n",
    "                reverse=True)\n",
    "    return words_freq[:n]"
   ]
  },
  {
   "cell_type": "code",
   "execution_count": 32,
   "id": "1ad2816d",
   "metadata": {},
   "outputs": [],
   "source": [
    "top3_words = get_top_n3_words(data[\"Text\"], n=200)\n",
    "top3_df = pd.DataFrame(top3_words)\n",
    "top3_df.columns=[\"Tri-gram\", \"Freq\"]"
   ]
  },
  {
   "cell_type": "code",
   "execution_count": 33,
   "id": "e4e3676f",
   "metadata": {},
   "outputs": [
    {
     "data": {
      "text/html": [
       "<div>\n",
       "<style scoped>\n",
       "    .dataframe tbody tr th:only-of-type {\n",
       "        vertical-align: middle;\n",
       "    }\n",
       "\n",
       "    .dataframe tbody tr th {\n",
       "        vertical-align: top;\n",
       "    }\n",
       "\n",
       "    .dataframe thead th {\n",
       "        text-align: right;\n",
       "    }\n",
       "</style>\n",
       "<table border=\"1\" class=\"dataframe\">\n",
       "  <thead>\n",
       "    <tr style=\"text-align: right;\">\n",
       "      <th></th>\n",
       "      <th>Tri-gram</th>\n",
       "      <th>Freq</th>\n",
       "    </tr>\n",
       "  </thead>\n",
       "  <tbody>\n",
       "    <tr>\n",
       "      <th>0</th>\n",
       "      <td>rt spacex falcon</td>\n",
       "      <td>17</td>\n",
       "    </tr>\n",
       "    <tr>\n",
       "      <th>1</th>\n",
       "      <td>falcon first stage</td>\n",
       "      <td>9</td>\n",
       "    </tr>\n",
       "    <tr>\n",
       "      <th>2</th>\n",
       "      <td>spacex falcon first</td>\n",
       "      <td>8</td>\n",
       "    </tr>\n",
       "    <tr>\n",
       "      <th>3</th>\n",
       "      <td>thesheetztweetz waemd spacex</td>\n",
       "      <td>8</td>\n",
       "    </tr>\n",
       "    <tr>\n",
       "      <th>4</th>\n",
       "      <td>course still love</td>\n",
       "      <td>7</td>\n",
       "    </tr>\n",
       "    <tr>\n",
       "      <th>...</th>\n",
       "      <td>...</td>\n",
       "      <td>...</td>\n",
       "    </tr>\n",
       "    <tr>\n",
       "      <th>195</th>\n",
       "      <td>completed full duration</td>\n",
       "      <td>2</td>\n",
       "    </tr>\n",
       "    <tr>\n",
       "      <th>196</th>\n",
       "      <td>raptor vacuum engine</td>\n",
       "      <td>2</td>\n",
       "    </tr>\n",
       "    <tr>\n",
       "      <th>197</th>\n",
       "      <td>we ve ever</td>\n",
       "      <td>2</td>\n",
       "    </tr>\n",
       "    <tr>\n",
       "      <th>198</th>\n",
       "      <td>zogfotpik samiralyateem idaacarmack</td>\n",
       "      <td>2</td>\n",
       "    </tr>\n",
       "    <tr>\n",
       "      <th>199</th>\n",
       "      <td>spacex amp tesla</td>\n",
       "      <td>2</td>\n",
       "    </tr>\n",
       "  </tbody>\n",
       "</table>\n",
       "<p>200 rows × 2 columns</p>\n",
       "</div>"
      ],
      "text/plain": [
       "                                Tri-gram  Freq\n",
       "0                       rt spacex falcon    17\n",
       "1                     falcon first stage     9\n",
       "2                    spacex falcon first     8\n",
       "3           thesheetztweetz waemd spacex     8\n",
       "4                      course still love     7\n",
       "..                                   ...   ...\n",
       "195              completed full duration     2\n",
       "196                 raptor vacuum engine     2\n",
       "197                           we ve ever     2\n",
       "198  zogfotpik samiralyateem idaacarmack     2\n",
       "199                     spacex amp tesla     2\n",
       "\n",
       "[200 rows x 2 columns]"
      ]
     },
     "execution_count": 33,
     "metadata": {},
     "output_type": "execute_result"
    }
   ],
   "source": [
    "top3_df"
   ]
  },
  {
   "cell_type": "markdown",
   "id": "1045ff5a",
   "metadata": {},
   "source": [
    "# Tri-gram plot"
   ]
  },
  {
   "cell_type": "code",
   "execution_count": 34,
   "id": "05dfd9d3",
   "metadata": {},
   "outputs": [
    {
     "data": {
      "text/plain": [
       "[Text(0, 0, 'rt spacex falcon'),\n",
       " Text(1, 0, 'falcon first stage'),\n",
       " Text(2, 0, 'spacex falcon first'),\n",
       " Text(3, 0, 'thesheetztweetz waemd spacex'),\n",
       " Text(4, 0, 'course still love'),\n",
       " Text(5, 0, 'ppathole thesheetztweetz waemd'),\n",
       " Text(6, 0, 'waemd spacex spacexstarlink'),\n",
       " Text(7, 0, 'first stage landed'),\n",
       " Text(8, 0, 'rt spacex liftoff'),\n",
       " Text(9, 0, 'spacex spacexstarlink wanationalguard'),\n",
       " Text(10, 0, 'spacex felixschlang marcushousegame'),\n",
       " Text(11, 0, 'still love droneship'),\n",
       " Text(12, 0, 'rt spacex dragon'),\n",
       " Text(13, 0, 'dragon first operational'),\n",
       " Text(14, 0, 'first operational mission'),\n",
       " Text(15, 0, 'casparstanley ercxspace marcushousegame'),\n",
       " Text(16, 0, 'ercxspace marcushousegame felixschlang'),\n",
       " Text(17, 0, 'erdayastronaut joshbickett ajtourville'),\n",
       " Text(18, 0, 'joshbickett ajtourville spacex'),\n",
       " Text(19, 0, 'spacex falcon launches')]"
      ]
     },
     "execution_count": 34,
     "metadata": {},
     "output_type": "execute_result"
    },
    {
     "data": {
      "image/png": "[encoded data removed]",
      "text/plain": [
       "<Figure size 720x360 with 1 Axes>"
      ]
     },
     "metadata": {
      "needs_background": "light"
     },
     "output_type": "display_data"
    }
   ],
   "source": [
    "top20_trigram = top3_df.iloc[0:20,:]\n",
    "fig = plt.figure(figsize = (10, 5))\n",
    "plot=sns.barplot(x=top20_trigram[\"Tri-gram\"],y=top20_trigram[\"Freq\"])\n",
    "plot.set_xticklabels(rotation=45,labels = top20_trigram[\"Tri-gram\"])"
   ]
  },
  {
   "cell_type": "markdown",
   "id": "93227e48",
   "metadata": {},
   "source": [
    "# WordCloud"
   ]
  },
  {
   "cell_type": "code",
   "execution_count": 35,
   "id": "cfcff577",
   "metadata": {},
   "outputs": [],
   "source": [
    "import sys"
   ]
  },
  {
   "cell_type": "code",
   "execution_count": 36,
   "id": "3b674796",
   "metadata": {},
   "outputs": [
    {
     "name": "stdout",
     "output_type": "stream",
     "text": [
      "C:\\Users\\Home\\anaconda3\\python.exe\n"
     ]
    }
   ],
   "source": [
    "print(sys.executable)"
   ]
  },
  {
   "cell_type": "markdown",
   "id": "47f44e68",
   "metadata": {},
   "source": [
    "# From wordcloud import WordCloud"
   ]
  },
  {
   "cell_type": "code",
   "execution_count": 37,
   "id": "f0456e89",
   "metadata": {},
   "outputs": [],
   "source": [
    "string_Total = \" \".join(data[\"Text\"])"
   ]
  },
  {
   "cell_type": "code",
   "execution_count": 38,
   "id": "213e04a1",
   "metadata": {},
   "outputs": [
    {
     "data": {
      "text/plain": [
       "'i\\x92m alien idaacarmack ray tracing cyberpunk hdr nextlevel tried joerogan spotify great interview doge underestimated teslacn congratulations tesla china amazing execution last year next even happy new year ox frodo underdoge thought would fail httpstcozgxjfdzzrm owensparks flcnhvy haha thanks flcnhvy indeed tweets definitely represent realworld time allocation entertaining outcome likely givedirectly sent agree clubhouse kanyewest  geoffkeighley unrealengine it\\x92s getting real bought dogecoin lil x toddler hodler joshmanmode definitely issues sentencing seems bit high freewalletorg thanks fixing freewalletorg please unlock account astrojordy true power haha freewalletorg crypto wallet won\\x92t give private keys avoided costs freewalletorg app sucks rt spacex nasa selected falcon heavy launch first two elements lunar gateway together one mission ajtourville yes rationaletienne adamklotz predict cash flow reasonably well starlink ipo rationaletienne adamklotz starlink staggeringly difficult technical amp economic endeavor however rationaletienne adamklotz spacex needs pass deep chasm negative cash flow next year idaacarmack lowest cost per ton carbon sequestered net value product made must scalable g adamklotz it\\x92s meant price countries difference taxes amp shipping tobyliiiiiiiiii intended earth may ideas apply mars cryptoshrikar coindesk tesla danzpalmer xprize team manage carbon capture prize sruhle everyone tesla receives stock comp stockoptions take table that\\x92s you\\x92re missing back work go capybarasurfer seem bit high itsallrisky doge appears inflationary meaningfully fixed coins per unit time whereas michaelgalanin kevinmgill wow erdayastronaut michaelhodapp orbital launch tower stack enough raptors orbit booster improve ship amp booster mass michaelhodapp back work tonight ð ðogecoin instructional video httpstcoueeocofctb people spoken lexfridman cute univercurious extremely misleading image doesn\\x92t reflect true time cost people rain amp pain let doge hodl rainforests it\\x92s finally come itsallrisky it\\x92s fun crypto joshroomsburg snoopdogg genesimmons simplicity genius astrogdogg spacex yup jbuttermost dogecoinrich wapodavenport true dogecoinrich flcnhvy astrojordy easy two decades intense work look old notes emails texts astrojordy yes lessons learned earth mars time tell story tesla amp spacex theonion read thebabylonbee it\\x92s great second last kingdom grimezsz haven\\x92t heard name years grimezsz dogecake yolt kristennetten that\\x92s damian kristennetten yeah owensparks sure great thing restaurants get hang strangers sjm future currency earth redlineshifter scratch much wow rationaletienne wonderofscience destiny renatakonkoly teslarati franz essential erdayastronaut joshbickett ajtourville spacex said ship landing burn clear solution greate adamklotz erdayastronaut joshbickett ajtourville spacex still use hot gas maneuvering rcs thrusters erdayastronaut joshbickett ajtourville spacex higher isp erdayastronaut joshbickett ajtourville spacex intuitively would seem turbopumpfed raptors mu nasaspaceflight yes rt spacex falcon launch nasa\\x92s spherex mission \\x96 collect data million galaxies explore un rt spacex falcon launches starlink satellites orbit \\x96 mission pad deck mikko darudevil it\\x92s true joshbickett ajtourville erdayastronaut spacex yeah default engine least lever arm would shut good ajtourville erdayastronaut spacex yes engines min throttle point flameout risk la httpstcothniyssnwn adamklotz erdayastronaut spacex yes erdayastronaut spacex foolish us start engines amp immediately shut needed land become meme destroyer shorts commandercruz might actually happen sandstorm masterpiece madoverlord dumb next time try pull method lowkey loki highs lows doge need gigachad dogecoin people\\x92s crypto ur welcome huobiglobal entertaining outcome likely doge httpstcovviuzwhodt erdayastronaut high seas amp wind tough one rt spacex watch falcon launch starlink satellites httpstcobjfjlczwdk twitter filled graffiti art eiraum giga berlin progress hamoon neuralink neuralink working super hard ensure implant safety amp close communication rt spacex mission enables access everyday people dream going space rt spacex announcing first commercial astronaut mission orbit earth aboard dragon httpstcombesvnakad httpstcouklsjffrjk you\\x92ve worked advanced wearables phones robots skills needed neuralink feels weird helping make hopefully good version cyberpunk come true please consider working neuralink shortterm solve brainspine injuries longterm humanai symbiosis latte httpstcoxccokojylt clubhouse tonight la time erdayastronaut tjcooney lrocket spacex felixschlang marcushousegame tom great stories experim httpstcoteezkiwcmk rt commercialcrew launch alert nasa spacex targeting earlier april launch second crew rotation mis erdayastronaut tjcooney lrocket spacex felixschlang marcushousegame became big fan methane tjcooney lrocket spacex felixschlang marcushousegame sounds correct tom certainly deserves lot cre tjcooney lrocket spacex felixschlang marcushousegame tom great amp instrumental developing early vers ercxspace smvllstvrs tw accelerate unusually fast high tw important reusable v teslaownerssv escaping thebabylonbee read whole article warm sunny day amp snowy mountains beautiful day la jaylav yeah dr frankensteen never used guy gave talk spacex flcnhvy halo  sure hope that\\x92s true tesla spacex thejackbeyer nasaspaceflight cryoproof install engines starship amp retrospect inevitable rgvaerialphotos great shot itsmenieb live sword die sword lexfridman entropy teslaownerssv gamespot buy amp hold companies make goods amp produce services love engineersfeed earth small amp smaller still gamespot cyberpunk even hotfixes literally hotfixes great game  documentingbtc dollar shorting westcoastbill indeed iupsychdoctor aoc robinhoodapp shopify great spacex used ohqwix wimgrommen wsbchairman indeed economy \\x97 making useful products amp providing great services \\x97 actually matters iupsychdoctor aoc robinhoodapp tanstaafl would better small fees fees latter makes robin httpstcoczrhlolyvo come shorty apologists give respect get shorty u can\\x92t sell houses u don\\x92t u can\\x92t sell cars u don\\x92t u sell stock u don\\x92t bs \\x96 sh rationaletienne teslavangelist yes finishing engineering year production starts next year aiming release candidate desig httpstcobfverxpoqu ppathole grimezsz made video aoc robinhoodapp absolutely nasaspaceflight unlike aircraft division fine faa space division fundamentally broken reg evankaylor nomad anbuteau esthetics cyberpunk incredible btw interior design trevormahlmann spacex major esthetics improvements coming teslaownerssv dmcryan little dmcryan new roadster part rocket dmcryan lafebra gfilche there\\x92s storage amp easily upgradable avalonpenrose couchinvestor yes wholemarsblog yeah probably months wholemarsblog drive without using prnd stalkstick days gets annoying go back amp use shifter wholemarsblog stalks car guesses drive direction based obstacles sees context amp nav map avalonpenrose hedge fund shorts shrubbery lafebra gfilche lafebra gfilche yeah also rear screen trap speed mile top speed right tires first production car ever achieve mph less seconds play cyberpunk plaid model ships next month httpstcohfuptnqipb even discord gone corpo jason yup wild times discord haha  waiting faa review gamestonk httpstcorztkdzaewj labpadre passed initial pressure test adamhoov yes ppathole bought hand knit wool marvin martian helm dog httpstcogpcvjibtlm kinda love etsy thesheetztweetz serve public hamstring starlink today amazon satellite system httpstcosnigkxdxfp nextspaceflight we\\x92re hoping faa approval test flight tomorrow afternoon wholemarsblog entire \\x93stack\\x94 data collection labeling amp inference surround video th flcnhvy wholemarsblog yes although crazy turn fsd wholemarsblog tesla steadily moving nns camera surround video enable superhuman selfdriving naval also road hell mostly paved bad intentions levine catchy megaconstellati aviationintel jetcitystar larrypress sats launched next year laser links megaconstellati aviationintel jetcitystar larrypress yup teslagong teslaownerssv cleantechnica hope tesmaniancom also laser links satellites ground stations needed poles teslaownerssv cleantechnica sorry version confusion say fsd separate version number rest car cleantechnica surprise tesla better ai hardware amp software waymo money ricguccio teslaownerssv floats flcnhvy boringcompany falloutthemed opening party vegas loop happening soon allowed alexebenton boringcompany vegas boringcompany tunnel yesterday boys httpstcotlfouiedfm ppathole spacex lasers rt spacex spacex\\x92s rideshare offering provides increased access space small satellite operators seeking reliable affordable rid rt spacex falcon \\x92s first stage landed course still love droneship rt spacex liftoff codewisdom teslascope we\\x92re switching sensible fsd version numbering distinguish major amp minor updates nasaspaceflight hopefully early next week rt spacex due unfavorable weather standing todays launch team continue countdown seco arstechnica sciguyspace given many companies depending mission getting even scru launching many small satellites wide range customers tomorrow excited offering lowcost access gerberkawasaki part solution require lots fresh water amp land may need something that\\x92s erdayastronaut spacex erdayastronaut it\\x92s good path fully renewable rocket energy solves part problem longer chain hyd httpstcoxugrzqijzx details next week donating towards prize best carbon capture technology kristennetten spacex eliburton evafoxu janeidyeve elonsbrain astrojordy renatakonkoly pretty much elonsworld tesla spacex neuralink boringcompany eashanmisra would probably mean civilization gr evafoxu renatakonkoly sarapolakcz seanmmitchell elonsworld teslatino tesla absolutely rock rt spacex falcon launches starlink orbit \\x96 eighth launch landing booster kellyreid ratelimiting part process cell production constantly changing francissuarez cityofmiami cars amp trucks stuck traffic generate megatons toxic gases amp particulate httpstcojcqiacxjno rationaletienne owensparks tesla giant casting machines literally trying make fullsize car httpstcochgqmaiyts lexfridman tegmark tegmark exceptionally smart amp good human owensparks best manufacturing technology ultra high volume industries like food amp beverage medical eg syringes amp toys battery cell production fundamental ratelimiter slowing sustainable energy future important pr pferragu looking question fsd viewed reasonably valuable tradein tobyliiiiiiiiii erdayastronaut sure erdayastronaut glad you\\x92re ok virginorbit congratulations teslaownerssv good one mrbeastyt whistle dmcryan crhm tesla cybertruck doesn\\x92t need garage dmcryan tesla awesome owenshift good point signalapp serverside code much wikipedia happy birthday wikipedia glad exist theonion guess watching cobra kai superclusterhq fallout new texas benmezrich chuck norris divide zero benmezrich good point benmezrich thing call money information system labor allocation actuall monty python amazing rationaletienne tobyliiiiiiiiii erdayastronaut sure twist knife show tobyliiiiiiiiii erdayastronaut probably wise erdayastronaut we\\x92re making major improvements ease engine swap needs hours ppathole johnkrausphotos spacex two engines need slight repairs switched johnkrausphotos spacex nice shot realomarabdalah don\\x92t high school internships please apply you\\x92re college skorusark prototypes easy volume production hard positive cash flow excruciating tesla physics rt spacex splashdown dragon confirmed completing spacex\\x92s spacestation resupply mission first return cargo resupp erdayastronaut detanking amp inspections good progress towards \\x93hop amp go mars\\x94 goal three static fires completed amp ruds justpaulinelol erdayastronaut spacex wow lot happened years officialjlipper fair enough haha  nasaspaceflight sea shanty tiktok takes new level actual pirate ships connectdotstoo sure today spacex practicing starship engine starts ship held massive pins engines fir httpstcoqtiiwlxxpl tesmaniancom promised legalize comedy lvladimirovbg steal namelogos amp probably won\\x92t sue arstechnica sciguyspace we\\x92re trying get people mars help would appreciated spacex spacestation one day get camera also shows star field background rt spacex separation confirmed dragon performing departure burns move away spacestation lexfridman suicide double homicide lexfridman absolutely hey yeah queen you\\x92re gonna make httpstcolrqdirbiyd theoldmanpar djsnm machinepix hate say might true machinepix robot future coming wonderofscience physicsj every millisecond times wish faster httpstcotkkruvgbth iamdevloper httpstcobkkeiiicye mus protec yoda roscosmos rationaletienne thebabylonbee important distinction valaafshar much amp increasing rapidly codingmark flcnhvy archillect something happens even better imagined skorusark factory product austinteslaclub thebabylonbee probably commenting signalapp ppathole bought replacement glass junkyard they\\x92re great places get spare parts thebabylonbee lot people going super unhappy west coast high tech de facto arbiter free speech alexandersibert signalapp already donated signal year ago donate benmezrich primarily trying advance two causes sustainable energy amp extending lifeconsciousness beyond e httpstcovybfavhkys songwooseok gerberkawasaki benmezrich spacepadreisle maybe tesla ai day later year spacepadreisle prancing pony boredelonmusk erigganewmoney mayemusk it\\x92s true woketopiansa yes long woketopiansa yeah seemed optimistic son saxon said feels like good year agree let us make erdayastronaut spacex also thinking spacex boca hold fun parties give tours community time time erdayastronaut spacex super support public spaces around production amp launch sites wherever done erdayastronaut spacex erdayastronaut spacex catapult high air amp land roof base jumping parachute way travel erdayastronaut spacex that\\x92s actually restaurant spacex building futuristic bar top h techreview increase fun hopefully benmezrich neither tonychomrmagic teslaenergy one best tesla solar roof installations maybe one day ppathole engineersfeed yes would best way large solar field reactor needed po engineersfeed sick beats flcnhvy probably less dozen primary decisionmakers technically three erdayastronaut lexfridman least option verification public ascribe credibilit launch underway btw critical feedback always super appreciated well ways donate money really make difference way harder seems engineersfeed yup engineersfeed indirectly electric rocket possible using electricity convert \\x97gt engineersfeed get orbit unfortunately space photon emission powered matterantimatter annihila teslarati residentsponge hard make isn\\x92t like vehicle playing long game ashleevance true idaacarmack hope wings don\\x92t work moon def well mars also runways ericrweinstein hamiltonians potential langrangians play  teslaownerssv well back work teslaownerssv strange use signal thehackersnews ya don\\x92t say reminds timeless classic univercurious fast water tiny rocks flcnhvy yes occam\\x92s razor actually third likely seen external observer participants entertaining outcome likely ppathole dumb dumber great movie tho called domino effect dtrford alexsvanart ercxspace spceenthusiast spacexvision tomdixondesign spacex large footprint may seem flat actually ranges stories tall snow falling giga berlin rgvaerialphotos spacex yes gfilche flcnhvy tesla responsible personal amp professional pain life combined worth proud tesla team achieving major milestone start tesla thought optimistica rt tesla produced delivered half million cars huge thanks made possible newscientist um giant fusion reactor sky works maintenance commaai tesla full selfdriving work safety level well average driver year httpstcojmabjuqfdf ppathole dojo isn\\x92t needed make selfdriving better isn\\x92t enough safer human drivers aut ignore heading great interview mathias döpfner jack greatest gatsby flcnhvy inspired ballet smvllstvrs ercxspace rocket motion primarily vertical want top open jack let\\x92s make roaring \\x92s erdayastronaut might lumps along way erdayastronaut flcnhvy ercxspace production hard prototypes easy building starships create httpstcoxjlljpljbp icannotenough aloysiusfekete rationaletienne ercxspace exactly rexchapman haha erdayastronaut flcnhvy ercxspace press header tank helium longterm solution debate rationaletienne ercxspace yes rationaletienne ercxspace legs would certainly work best part part best step step flcnhvy ercxspace yes flcnhvy ercxspace saves mass amp cost legs amp enables immediate repositioning booster launch mount \\x97 rea httpstcojwdcjarymj ercxspace we\\x92re going try catch super heavy booster launch tower arm using grid fins take load snakehead dog undivided attention winderhead ostrich came gliding nonchalant tesmaniancom seems odd opposition group bmw\\x92s home state baveria that\\x91s far brande tesmaniancom sensible opposition anywhere cannot mean progress everywhere harsimranbansal literally tobyliiiiiiiiii sure real destiny destiny escaping tesla cars delivered final three days year get three months full selfdriving option spacenewsinc mark dankberg action wack dank rezazadeh less ashleevance westworld last kingdom show great absolutely text amp visualization could add voice sfscentral even cheese made cake karpathy don\\x92t love us we\\x92re deep trouble everything made cake httpstcoomacmyqawx chicagoglenn true haha weird game think cgi bensullins need ui overhaul maldivawow codingmark tesla incremental improvements production codebase fsd build spacenewsinc starlink \\x93poses hazard\\x94 viasat\\x92s profits like stop sneaky moves charlie ergen entertainment critical cars drive kimpaquette meeting larry ellison seek advice back working tesla end quarter tomorrow richierichhhhh absolutely tesla incar gaming autonomous world ppathole wsj absolutely tesmaniancom taste future try playing polytopia tesla great game multiplayer online version coming soon wsj focus making products amp services people truly love total economic pie bigger instead en thatdesignguy msiphiw moosuraj tesla roughly parts tesla roadster unique \\x97 pro karpathy yes engineersfeed important teslaownerssv lexfridman ok service might able check teslaownerssv lexfridman mean install external speaker earlier cars don\\x92t lexfridman definitely year lexfridman good point conexionspacial spacecoaststve nasaspaceflight interesting flcnhvy liz always done great interviews spacecoaststve nasaspaceflight falcon successful orbital launches maybe majority pa karpathy vaccines start it\\x92s also capable theory curing almost anything turns medicine teslatruckclub jeremyjudkins jpuconn jchybow dirtytesla yes teslatruckclub jeremyjudkins jpuconn jchybow dirtytesla offer multiple display options ivanescobosa erdayastronaut teslaownerssv revisions needed probably beta erdayastronaut teslaownerssv sure erdayastronaut teslaownerssv haha ok teslaadri teslaownerssv subtle important differences us amp canada traffic rules bu teslaadri teslaownerssv yes teslaownerssv need \\x93match traffic speed\\x94 setting stevewoz definitely flcnhvy it\\x92s step direction it\\x92s one don\\x92t car pedestrian speaker couldn\\x92t get everything done westcoastbill writing cobra kai afloathickory haha save nightmare seeing shorts upload custom musicsounds unfortunately pedestrian speaker needed otherwise external sound generator except actual horn change horn sound holiday jingles latest tesla software update merry christmas amp happy holidays tesmaniancom great game harsimranbansal likely make sense starlink go public revenue growth reasonably predictable engineering design amp general company operations absorb vast majority mind amp fundamental li elonsworld realfuturist lexfridman yes flcnhvy marcushousegame months marcushousegame coming soon olhzn minor trevormahlmann yeah story rocket turns engines amp controlled fall erdayastronaut yup we\\x92re ironing bugs tesla owners taking delivery final days year support super appreciated deepmind nature frictionless ai could possibly go wrong good idea wintonark darkest days model program reached tim cook discuss possibility wintonark strange true tesla already uses ironphosphate medium range cars made shanghai facto httpstcomilwsilvrt archillect sparta\\x92s reply macedon lizclaman tesla foxbusiness clamancountdown hi liz thanks everyone worked hard make tesla successful heart goes teslaownerssv indeed kristennetten seriously twisted affair all\\x92s ends well mkbhd although it\\x92s kind lowkey tesla superchargers made accessible electric cars rt spacex photos yesterday\\x92s launch landing michaelsaylor large transactions even possible love u crazy ppl bizzzzzyd point sigh pcgamer great game flcnhvy pretty much main value college used hanging pseudo intellectual conversations amp come comments stay padgeuk absolutely release fsd subscription early next year one word doge bitcoin almost bs fiat money hajekmiloslav great nails amp lipstick mightytesla kristennetten laurenkalo sawyermerritt jasondebolt codingmark httpstcodvwzgtppda httpstcoebojgshvrq callowaytech sounds right \\x93lord\\x94 edge xdreamcoding frankthelen nice branding kidding needs safe word anyway bitcoin safe word rt spacex falcon \\x92s first stage landed landing zone rt spacex liftoff spacex standing today inspect rocket hopefully launching tomorrow spacex pressure slightly high upper stage liquid oxygen tank review underway teslamania hoping back next month nytimes impressive mission china spacex last launch coming teslaownerssv astonmartin tesla indeed quite grumpy actually know point teslaownerssv get absurdly good tesla aiautopilot engineering awesome there\\x92s great ai ther star light star bright teslarati incorrect thebabylonbee pcgamer visually stunning amp playability good pcgamer tshirt better armor kevlar chest plate doesn\\x92t make sense absence magic also w httpstcoiydkttvsqk cleantechnica oh umm cleantechnica absolutely support trans pronouns esthetic nightmare erdayastronaut flightclubio raptors well max thrust ship would blown altit httpstcoikcrzpyxtr erdayastronaut flightclubio far fully loaded going slow ship would gone crazy highfar three engines picotjohn cyberpunkgame it\\x92s good great game imo improving may seem like mere surface detail woul truthtesla tesmaniancom perhaps slightly confident it\\x92s essential view output vs time httpstcorkfvjvotse tesmaniancom dankeschön brandenburg und grünheide lrocket sure hope future doesn\\x92t come pass tesmaniancom giga berlinbrandenburg first use new structural pack architecture world\\x92s cyberpunkgame original deus ex incredible human revolution also great cyberpunkgame objective reality impossible run advanced game well old hardware rt spacex starship landing flip maneuver theonion thebabylonbee ascent heavens engineersfeed ppathole cyberpunkgame yeah briefly seems pretty good picked nomad start little slow picks httpstconllipnbmxr zwiebelbach itsmenieb cyberpunkgame hehe cyberpunkgame cyberpunkgame httpstcosdmxkbhdzd  rt spacex falcon launches orbit completing spacex\\x92s launch year quantamagazine init void ppathole ercxspace spacex cooling haha ppathole ercxspace spacex still soft spot heart transpiration cooking theory would us ercxspace spacex ship leeward side bare metal windward black hexagonal heat shield tiles rt pockncg cant wait elonmusk spacex spacexstarship httpstcoynetmywfvg conexionspacial pockncg yes spacepadreisle spacex agreed preserved memory rt spacex photos starship \\x92s flight test nasaspaceflight bocachicagal exactly woohoo erdayastronaut spacex great even reaching apogee would\\x92ve great controlling way putting thank south texas support gateway mars life universe everything erdayastronaut yeah engines great mars come fuel header tank pressure low landing burn causing touchdown velocity high amp rud got httpstcowgjvdsahmf successful ascent switchover header tanks amp precise flap control landing point thebabylonbee wonderofscience nearorbital space fastest way travel long distance earth spacex spacestation it\\x92s called space \\x93station\\x94 it\\x92s actually moving around earth times spee httpstcovyvivrtzsa rt spacex timelapse dragon approach \\x96 two dragons docked spacestation \\x93so long thanks orifice\\x94 alien message decrypted spacex probably chance completing mission objectives spacex hopefully flying tomorrow nasaspaceflight yup rt nasa success et spacexs upgraded dragon cargo spacecraft autonomously docked spacestation pad south texas rt spacestation station spacex dragon going orbital night period et docking crewdragon spacestation spacex wow station looks amazing rt nasa good morning earthlings journey continues watch nasa spacex cargo resupply mission docks spacestatio nasaspaceflight knock knock singing telegram lexfridman carrying even symbiotic bacteria trillion cells adamklotz lexfridman yes lexfridman mobile cell colonies  rt spacex tracking footage helicopter today\\x92s falcon launch rt erdayastronaut there\\x92s something genuinely magical seeing starship person boca chica beautiful quiet serine im gespräch mit mathias döpfner rt spacex dragon separation confirmed spacecraft way spacestation autonomous docking tomorrow approximately rt spacex falcon booster landed course still love droneship rt spacex liftoff jaxaen congratulations congratulations rdanglephoto spacex teslarati yes rt boringcompany tunnel rave rationaletienne toilet paper watch demolition man prometheus unbound rt spacex falcon booster supporting mission previously launched nasa astronauts bob behnken doug hurley spacesta ercxspace spacex nasaspaceflight erdayastronaut marcushousegame felixschlang bad theonion beast compared tesmaniancom award accepted behalf great people tesla spacex neuralink amp boring co much people think science actually engineering eg thing \\x93rocket scientist\\x94 roc science discovering essential truths exists universe engineering creating things httpstcoxmqtbrldyp justpaulinelol get bit cold night engineersfeed paint makes hell difference deepmind congrats lrocket thanks everything help build spacex best memories ever rgvaerialphotos real soon marcushousegame nextspaceflight nasaspaceflight starship legs one hardest problems external nextspaceflight nasaspaceflight static fire risky build site need clear build site early flights nextspaceflight nasaspaceflight static fire tomorrow flight earlier wednesday ercxspace spacex landing legs ppathole karpathy yes sad news tony great ppathole karpathy second thought pic thanos haha poppabearq idaacarmack yeah truncate zeros amp round dburkland idaacarmack probably going wider beta weeks idaacarmack least important digits truncated feels like we\\x92re betting training dojo idaacarmack almost heavy lifting inference works great thisisjendoll actually thisisjendoll happy thanksgiving teslaownerssv teslachillmode mfrunker ccteslaclub hopefully next month teslachillmode mfrunker ccteslaclub ok overall air suspension height amp damping algorithm karpathy haha true humanoidhistory promise greatly needed evafoxu special colors new roadster original rationaletienne thebabylonbee thebabylonbee savage worldandscience ever wondered came life leader launch risk normal teslatino flcnhvy thesheetztweetz yes slightly filled flcnhvy thesheetztweetz subject much debate flcnhvy thesheetztweetz major upgrades slated flcnhvy thesheetztweetz many small improvements overall similar wiring robust engines mat thesheetztweetz that\\x92s sn amp thesheetztweetz lot things need go right maybe chance good starship static fire aiming first ft altitude flight next week goals test engin erdayastronaut marcushousegame maybe start year depends starship progress goes rationaletienne marcushousegame yet starshipfairing marcushousegame bad definitely need engines make cargo bay propel marcushousegame rapid amp complete rocket reuse low cost propellant orbital refilling amp propellant production erdayastronaut ppathole teslarati teslaroadtrip yes ppathole teslarati teslaroadtrip we\\x92re still far simply video control biggest gamechanger cu teslarati teslaroadtrip fsd beta coming days improvement significant xhnews exciting mission tesla wow livboeree yea tomorrow flight rocket landing droneship course still love teslaownerssv sure futurejurvetson flcnhvy true rationaletienne philwhln quiet queue products build better new roadster rationaletienne shycybertruck fate loves irony hates hypocrisy rt nasa booster separation secondengine start fairing separation useuropean michael freilich oceanobserving icannotenough yes flcnhvy data center named skynet joke years ago might tempting fate philwhln tesla vehicle creating amp producing many useful products nasaspaceflight largest cast titanium part world heat shielding needed landing vandenberg afb california tobyliiiiiiiiii spacex nasa nasalsp nasajpl esa actually side doesn\\x92t take launch tobyliiiiiiiiii spacex nasa nasalsp nasajpl esa philwhln investor tesla definitely good company investing n well almost anything httpstcoffpvdsqruc quite day ahead rt spacex \\x92s view earth dragon\\x92s flight spacestation nasaaero lockheedmartin you\\x92d call pointy cleantechnica cool astrofonseca spacestation wonderofscience virtualastro they\\x92re moving times speed sound feels like nothing worldandscience vicentes evafoxu ppathole mirojurcevic tashaark spacestation always upgrades evafoxu ppathole mirojurcevic tashaark spacestation better human vision quite margin ennnafnlaus mirojurcevic tashaark spacestation reality looks like strange ghostworld radar wavelengths ppathole mirojurcevic tashaark spacestation exactly mirojurcevic tashaark misperception spacex developed amp continues use lidar dragon docking philippecroizon spacex one day fly starship peterjbeck well done hisdirtremoves spacex can\\x92t comment turbopump internal details you\\x92re roughly ballpark wow roc tashaark clear xpeng problem companies china done isaaclatterell tashaark karpathy andrej awesome said talented autopilot spacetouristuk tashaark yeah stole apple\\x92s code tashaark old version software amp don\\x92t nn inference computer levie wild times rocketlab congrats slashdot theonion idaacarmack yup flcnhvy change parts otherwise fine forbes caution strongly advised spacs adamkiotz suvitruf archillect sure suvitruf archillect haha sexy cropping champion time tweetmenima teslaownerssv next week\\x92s release looks good widen beta justpaulinelol teslaownerssv unfortunately many rules around liquor distribution even us teslaownerssv next week\\x92s release special lot fundamental improvements important bug fixes amp entire n westcoastbill spacex years amp billion wow owensparks flcnhvy tesla safety primary design goal ppathole astrojordy flcnhvy fully astronomiaum let martians decide future shifthappends tesla lot brain space spent dealing units astronomiaum terraforming slow relevant lifetime however establish human base ppathole xdreamcoding certainly intention xdreamcoding httpstcofrezwjcwna publicly traded stock tesla wise words bogle point companies products amp services point amp thems teslaownerssv astrojordy flcnhvy mild cold bro def though means viral httpstcouysanpqtfi astronomiaum life glass domes first eventually terraformed support life like earth astrojordy flcnhvy yeah daywalkerxd astronomiaum going say \\x93sim\\x94 seemed obvious haha astronomiaum deveras flcnhvy cases high noninfectious ct quarantine days getting another test seco httpstcooalvzwcmio tobyliiiiiiiiii many things want amp didn\\x92t know wanted nichegamer maybe little mercy tesla holiday software release maisiewilliams cobra kai deep cut archillect it\\x92s cake amp someone took bite nichegamer thing much sentience deus ex machine learning peterrhague it\\x92s designed make life multiplanetary otherwise extreme overkill mere earth sector activity kristennetten royalsociety like gave blessing sort groundswell believed nullius verba royalsociety westcoastbill indeed reflexfunds pcgamer dojodoge ppathole erdayastronaut yeah looks like marginal cost launch less speculawyer erdayastronaut exactly erdayastronaut merlin strong local maximum design kerosene suboptimal fuel matter parstalberg joshbickett icannotenough erdayastronaut yes visiting american ah irony much joshbickett icannotenough erdayastronaut yeah pcr ct unequivocal doesn\\x92t matter flcnhvy pcgamer maybe making notable changes wait figurative amp literal dust settles icannotenough erdayastronaut pretty close definitely feel take dayquil frankly one pcgamer avionics cables moving steel pipe shields amp adding watercooled steel pipes test pad pcgamer secs starting engines martyte covering concrete shattered sending blades erdayastronaut amazing thing rocket engines sometimes don\\x92t blow pcgamer count atoms point djsnm erdayastronaut charlesnotrumps absolutely productiontesting rocket engines erdayastronaut charlesnotrumps first merlin engine design really bad tbh nothing worked well timmerenginerd jack maybe love irony haha greenisclutch timmerenginerd jack they\\x92re way hopefully teslaquila next month chrisgnsf special permission received stonecutters guild timmerenginerd jack fate irony jack well said trylolli maisiewilliams httpstcouwerahxuev erdayastronaut damn that\\x92s easy spent quite bit time looking russianukrainian engines they\\x92re good ppathole michaelminalab yes rt spacex docking confirmed \\x96 crew dragon arrived spacestation maisiewilliams toss bitcoin ur witcher kristennetten rt nasa enter crew dragon pm est pm utc nasa spacex astronauts give live tour space whatsupfranks michaelminalab curevac moderna amp others tesla makes machine curevac uses go kn michaelminalab creating synthetic mrna curesvaccines future medicine imo turns mostly gaertneranne neuroskeptic dresdentea judithherbers haha michaelminalab great thread samtalkstesla i\\x92m ok thanks asking symptoms past days apart fatigue unless something chang  launch minutes flcnhvy yeah cooling channels integrated chamber walls propellant used either abort orbital maneuvering one use obviates dragon also hover amp land propulsively use parachutes maximum safety thrusters integrated spacecraft enabling abort capability way abort increased safety rt nasa song would play ride launch pad launchamerica rt spacex dragon completed flights spacestation designed beginning human spaceflight mi rt spacex dragon spacecraft currently flying capable returning significant amounts cargo earth first priv rt spacex spacex\\x92s customtailored suits route communications cooling systems protect crew event cabin depressu rt nasa live ready launchamerica watch coverage nasa spacex mission liftoff et rt spacex watch falcon launch crew dragon first operational mission spacestation astronauts board httpstc tboneagnoobs ok rt spacex systems go tonight\\x92s launch pm est crew dragon\\x92s first operational mission four astronauts boa klotzadam ppathole astrojordy erujabidi yeah feel pretty normal symptoms right last week sym ppathole astrojordy erujabidi tests several different labs time day administered rn amp ppathole mariolivio obv insanely great bad pointless argument astronaut launch today rt nasa astrosoichi message boys girls japan space waiting tumblr spotlight jaxaen astronaut rt nasa week nasas spacex astronauts arrive nasakennedy ahead launch nasapersevere rover marks days rt astrosoichi spacex nasa finished final dress rehearsal getting ready saturday launch behind real dragon mariolivio kids though mariolivio hell wig collection michaelminalab would great labs could give people level granular feedback results rt michaelminalab elonmusk great question it\\x92s complex question depends test used ie want kn worth reading thread you\\x92re curious rona testing stonkmanup michaelminalab imo get blood pressure test tell number ju astrojordy erujabidi little amp feels like regular cold body achy amp cloudy head co michaelminalab opinion ct number gene pcr test probably regarded michaelminalab teslaownerssv cool please super cautious expect two steps forward one back lot new code merged scratch buff erujabidi getting wildly different results different labs likely moderate case covid httpstcoxlbahahjoj whatsupfranks lexfridman npcs way lexfridman ahem unless you\\x92re dmt laws thermodynamics can\\x92t win can\\x92t break even can\\x92t stop playing shakes fist entropy realnattastic big expansion beta program weeks robintoshnunez ppathole interesting thursday night saliva sample came back today gene unique cov icannotenough what\\x92s honey slashdot feels way whatsupfranks stephenking seems accurate stephenking cold symptoms gone stephenking degrees pos mrsammyh pelagicbird maxroi heneghan makes lot sense hilarious clarify r whatsupfranks number pcr amplification cycles required detect virus rough indicator vir mrsammyh maxroi great reference worth read case closed soon ppathole fwiw lab spoke thinks accurate gets dicey amp bs talk lab spoke said pcr detection amp genes cycles reliable amp cycles rationaletienne ryaneshea note spike protein don\\x92t consider reliable rationaletienne ryaneshea spoke directly testing lab main pcr search gene unique ppathole strange ryaneshea possible explanation dramatic decline cold amp flu prevalence vs prior years someone comes httpstcogmlvewwxdp ryaneshea moreover lower true prevalence higher false positive number sounds obvious ryaneshea danaemorgan sure would great hear people know lot pcr testing industry what\\x92s approximate false posi clarecraigpath interesting johnbeans dirtytesla interesting general population knowledge symptoms accuracy pcr test amp possible gene ppathole cleantechnica good pcr test identify spike proteins although heard justpaulinelol cleantechnica mild sniffles amp cough amp slight fever past days right symptoms although take nyquil cleantechnica technically tested positive negative twice positive \\x93elon musk tests negati carousel turns ever faster joeingeneral andrewbogut yup ajtourville exactly janeidyeve symptoms typical cold nothing unusual far it\\x92s happening it\\x92s happening others i\\x92m getting pcr tests separate labs results take hours something extremely bogus going tested covid four times today two tests came back negative two cam burst disk worked vehicle appears ok we\\x92ll swap least one engines tobyliiiiiiiiii spacepadreisle maybe melted engine preburner fuel hot gas manifold whatev lost vehicle pneumatics reason unknown present liquid oxygen header tank pressure risin drphiltill rt teslarati tesla tops list \\x92s attractive employers us engineering students astronauts fly spacestation sat night cape first operational flight crew dragon httpstcouzcgikcikb cardoso luck best superpower rt spacex thank served sacrificed veteransday rt spacex crew access arm swings place hiromichimizuno yes kristennetten honor would choose work strive ensure companies enable privilege work people like amp respect much feel blessed rt commercialcrew flight readiness review mission spacestation concluded nasa spacex go rt spacex falcon crew dragon vertical launch complex djsnm spacex ercxspace casparstanley spacexvision felixschlang probably teslany tesla happy see samtalkstesla tesla expect become important product world probably financially material tesla spacex ercxspace casparstanley spacexvision felixschlang there\\x92s entry httpstconcafknfzlc samtalkstesla tesla tesla makes rna bioreactor make vaccines cures curevac version use httpstcoopouohyamu rt spacex crew dragon falcon hangar launch complex ahead launching four astronauts spacestation liftoff teslatino checking pcgamer hope game doesn\\x92t twist tedium fear canceled rt boringcompany rumor austin chalk geologically one best soils tunneling want find austin jobs avai  yes damn cookie browser setting teslaownerssv tesla thanks lot great autopilotai hardware amp software engineers tesla bbctech sure mkbhd vyyyper worth mkbhd exactly mkbhd sure mkbhd actually it\\x92s still tesla nykchannel wait see cybertruck mkbhd accidental back shortly rt tesla superchargers counting erdayastronaut renatakonkoly spacenewsinc hoping change booster design land back launch mount amyceskridge chip temp sensor amp automatically maintains safe temp reganlovetesla renatakonkoly spacenewsinc enough already plate amp tesla\\x92s maybe one day prototy amyceskridge neuralink won\\x92t overclock brain transfer processing supercomputer extension yo flcnhvy ppathole cleantechnica rewrote labeling software different labeling single phot httpstcomltbdsquty ppathole cleantechnica version year away renatakonkoly spacenewsinc would appear calculations incorrect spacenewsinc china understands profound importance reusability era expendable rockets soon cleantechnica tesla autopilotai team cleantechnica good explanation essential dynamically occluded objects especially large intersection rt archillect phantom opera inside mind linustech spacexstarlink spacex ppathole looking problemsolvers get things done high sense urgency don\\x92t care went school sending resume please describe hardest problems solved amp exactly solved new banner needed neither hard left right ppathole another fine day simulation nereide faraday invented electric motor tesla commutatorfree threephase ac induction motor nereide maxwell amazing recognition tesla motors inc almost called faraday ten times better  rt spacex deployment gps confirmed httpstcofcfjrcwmti rt spacex falcon \\x92s first stage lands course still love droneship rt spacex liftoff linustech spacexstarlink spacex awaiting approval canadian authorities recruiting ace engineers giga berlin interview person tomorrow site send resume chadhurley realdonaldtrump kanyewest stop chad chadhurley realdonaldtrump kanyewest uh chad wtf techamazing einstein great succeed engineering tried jtrevorchapman yeah relatively easy users ocean icannotenough jonerlichman yes although didn\\x92t expect stock rise much futurejurvetson ppathole super appreciate support steve convertible loan gave us months runway jonerlichman closest got month model ramp extreme stress amp pa jonerlichman put last money even though thought would still fail eithe jonerlichman funding round completed christmas eve last hour last day possible investo httpstcoumfgjnkoxm joshbickett ppathole yes ppathole lowering starlink terminal cost may sound rather pedestrian actually difficult technical challenge itshamzahkhan soon get regulatory approval hopefully around middle next year thesheetztweetz right takes mins set future improvements probably less mi kjellarne flcnhvy canada norway next get us early beta ennnafnlaus flcnhvy didn\\x92t realize possible problem there\\x92s way get current design cybertruck approved europe flcnhvy soon get country approval required country individually euwide approval jasonrassett lower latitude states need satellites position probably january several thousand starlink beta participation invitations going week louiswferreira new design better many minor tweaks even small details matter engineersfeed haha close actual expected flight httpstcoruediphtil nigellockyer could excited new supercollider said considerably larger wholemarsblog steezyysosa austinteslaclub joetegtmeyer txterafactory terafactorytx lqdchkn steezyysosa austinteslaclub joetegtmeyer txterafactory terafactorytx lqdchkn jdaverage austinteslaclub joetegtmeyer txterafactory terafactorytx lqdchkn jdaverage eliburton tesla tex kyzcralotsxam yes penguin random house change name random sure although might quite short livestream lot go wrong we\\x92ll provide video wa fnarolles matters erdayastronaut klotzadam nasaspaceflight we\\x92ve tested subscale version wind tunnel active aero clos flcnhvy rgvaerialphotos rgvaerialphotos lord klotzadam nasaspaceflight erdayastronaut yeah although fails right end landing flcnhvy nasaspaceflight erdayastronaut minor klotzadam nasaspaceflight erdayastronaut understanding exactly body flaps control pitch yaw amp roll duri nasaspaceflight erdayastronaut rud right launch pad also possible fortunately almost ready nasaspaceflight erdayastronaut stable controlled descent body flaps would great transferring propellant teslaownerssv kristennetten teslatino every days kristennetten teslaownerssv teslatino faults never zero point probability fault wi teslaownerssv teslatino measure primarily intervention probability update addressed several issu teslatino thanks great autopilotai team working super hard \\x93neural nets\\x94 without testing auchenberg latency improve significantly soon bandwidth teslaownerssv build noticeably better interventions rationaletienne teslaownerssv toadmeister yes teslaownerssv toadmeister i\\x92ve spent half life california amp love state frankly think toadmeister sweden still right zero deaths oct tocnewyorkstate true also fewer heart attacks way easier pump blood gravity engineersfeed we\\x92re talking also stephenson constellation scrotum haha engineersfeed small fry sun converts million tons mass energy every second wholemarsblog accurate ajtourville endelsound grimezsz spacepadreisle challenges high winds looks like sunday static fire spacepadreisle great shot endelsound grimezsz future ai appreciate teslarati truth stranger fiction waitbutwhy universalsci urf smol long time truth told i\\x92ve eaten jitb many times years even teriyaki bowl might buy jack box footstool skorusark approximately lograte challengerst bot change setting \\x93combat\\x94 samtalkstesla well phased array antenna actually rather flat tesla make catgirl robots machinepix little crane \\x93am toy you\\x94 coffeemaestro come come wow mayo sure salty ppathole pcgamer max payne great many levels silent hill good jack box double duty sperm donor clinic \\x97 name thewpmontgomery pcgamer one best games ever thatdudeshannon pcgamer fear modern graphics amp sound would rock pcgamer ok zzcool pcgamer games thread far scarier amp creatively horror movie pcgamer fear best imo also dead space haunt dreams rakyll flcnhvy best knowledge literally zero equipment usable without major repairs upgra flcnhvy left broken bots amp equipment hardly worth scrap metal value scrounged spa flcnhvy actually zero employees factory gmtoyota left took good equipment amp ajtourville bettern nothin ur back wholemarsblog hyperchangetv tesla team done great work hyperchangetv well tbh capex efficiency trash westcoastbill testing covid license print money arctechinc tesla yes helpful thanks beta testers erdayastronaut video training amp inference essential excellent autonomy engineersfeed sigh new supersonic jet time electric worldandscience critical humanity\\x92s future congratulations spacex team teslatino mine days ahead eliburton teslaownerssv sure could option settings teslaownerssv visualization tone significantly production intentionally strident colors erdayastronaut tobyliiiiiiiiii superclusterhq sure erdayastronaut tobyliiiiiiiiii superclusterhq i\\x92m boca every week maybe could talk th tobyliiiiiiiiii superclusterhq good point probably next week form written piece spacex website superclusterhq great pics beginnings starship production system meaningful wholemarsblog yup beta updates there\\x92ll lot steps fwd step back situations pace improv bartsanders working also needs able fart cars command spacepadreisle starship coming together price change pushed thursday next week applies us one week clock start countr httpstcocjhtxcselt deg glass star bar name tbd top high bay dmcryan well said many times price rise product functionality improves much ti stephenking agreed performance tires spacex smallseeming issue loss upper stage camera probably nothing serious standing flcnhvy sure tesla fsd beta limited release fsd price new upgrade go monday teslagong ppathole teslaownerssv teslaraj soon complete testing amp regulators approve many differe ppathole teslaownerssv teslaraj yes teslaownerssv teslaraj haha teslarati dependent proving high safety wholemarsblog intentional wanted show could theoretically convert entire us vehicle f erdayastronaut cold gas hot later mean ya gotta tiki bar starship nosecone high bay amp tiki bar ieeeorg erdayastronaut gets orbit times erdayastronaut got little melty tbh erdayastronaut engines could go bar would dicey pushing nearterm tests doesn\\x92t achieve erdayastronaut raptor run secs bar chamber pressure encountering issues mtf sea fsd beta rollout happening tonight extremely slow amp cautious data engine starship static fire morning looks good proceeding nosecone mate ppathole toadmeister yes also consider population lifemonths lost lockdowns amp restriction toadmeister sweden zero deaths oct yes juanjacobs jwangark firmware probably slightly accurate description yes rt tesla theres place like homeespecially solar roof kansas ranch got installed days ppathole flyerandyp mojosusan mobic much mobility fusion little need mobid haha flyerandyp mojosusan actually it\\x92s neck flyerandyp mojosusan maybe helpful mobic disc put however surgery failed remov jwangark pretty accurate it\\x92s much dna sequencing using synthetic dnarna fix bugs code samtalkstesla london beijing would cool samtalkstesla wow would quite trip cinotpyrc that\\x92s kid haha møtør trèndé techamazing looks like snoopy tesmaniancom current production slightly better cleantechnica doesn\\x92t seem life solar system maybe ice europa rt tesmaniancom tesla model sr lowest energy consumption bevs says report cleantechnica creative flcnhvy free fusion reactor sky conveniently converts million tons mass energy every second kristennetten teslaownerssv never know ppathole xbox whatsupfranks kimpaquette also system autodelete old data automatically default univercurious table tension kimpaquette yes teslaownerssv starting production seater next month initial deliveries early december gauntlet thrown prophecy fulfilled model price changes tonight spacex nasaspaceflight whoisheartbreak erdayastronaut felixschlang tesla congratulations teslarati making progress meter roughly ft diameter less roomy vacuum rocket engines added httpstcopktdfdizyc flcnhvy wholemarsblog kristennetten boringcompany tesla it\\x92s still focus vegas amp prufrock new tunneling machine astrojordy kristennetten boringcompany tesla sure wholemarsblog kristennetten boringcompany tesla maybe month finishing touches need done stations kristennetten boringcompany tesla simplified lot it\\x92s basically teslas tunnels point playoverwatch sweet antonkanerva yes everything slow phased array antenna lexfridman nice \\x93what love baby don\\x92t hurt me\\x94\\x97 winston churchill playoverwatch twomad maybe weak turrets allow strategic degrees freedom playoverwatch twomad please buff torb\\x92s turret twomad um yes teslaownerssv goosebumps merch sure tbh teslaownerssv teslaownerssv lotr illuminaughty chotihaque billgates dougstanhope bobdylan charltonbrooker ericidle jimcarrey johncleese sapinker knee deep rt spacex first flight upgraded cargo version dragon able carry science payloads th rt spacex dragon spacecraft supporting spacex\\x92s cargo resupply mission spacestation departed hawthorne factory last chipro yeah least success set possible outcomes time badatlife wholemarsblog diess best move right direction he\\x92s tough position wi flcnhvy good grief spacex getting zero money starship designed carry people amp cargo around ear teslarati fsd got stuck lot local maximums wasn\\x92t clear hit ceiling time it\\x92s right rationaletienne thank much accurate haha graph appears upside teslarati sheer magnitude entire production system hard appreciate almost every element productio teslaclubin cleantechnica release order configurator probably jan cleantechnica limited fsd beta releasing tuesday next week promised first limited shortword jwangark soc\\x92s sync timessec exchanging output nns jwangark tesla fsd computer\\x92s dual socs function like twin engines planes \\x97 run different neural nets jwangark accurate analysis quite people comment thread haha neither mobileye ppathole slashdot ohiotesla jendunlap tesla caranddriver teslaownerssv teslarati electrekco glad jen safe ppathole slashdot wow slashdot uh ok go teslarati don\\x92t think accurate erdayastronaut mariabartiromo potus realdonaldtrump jeffbezos morningsmaria foxbusiness yeah lite tesmaniancom even half amount it\\x92s still big deal ennnafnlaus mariabartiromo potus realdonaldtrump jeffbezos morningsmaria foxbusiness seen evidence advanc httpstcohbtdtjyttc face tough dichotomy applying resources old architecture applying ne flcnhvy definitely ennnafnlaus exactly plays \\x93poor inventor\\x94 card rich along amp invented nothing far kn ennnafnlaus sketchy edits tesla wiki whitewash eberhard\\x92s problemsglorify role pretty odd ennnafnlaus eberhard fired tesla ceo role mid providing false information amp carrenimfa interesting rt cradvocacy \\x93the future cars electric entire industry starts making marketing compelling evs everyone erdayastronaut flcnhvy pellebrannvall casparstanley ercxspace marcushousegame felixschlang httpstcoxlbidpmuuq teslaownerssv erdayastronaut probably erdayastronaut exact art wall place stay boca chica rationaletienne toadmeister yes failure protect nursing homes major mistake happened countries httpstcocmvdkmrish toadmeister sweden right erdayastronaut pellebrannvall flcnhvy casparstanley ercxspace marcushousegame felixschlang teslarati great work spacex valve engineering amp production casparstanley ercxspace marcushousegame felixschlang spacex tiles mechanically attached flcnhvy casparstanley ercxspace marcushousegame felixschlang spacex casparstanley ercxspace marcushousegame felixschlang spacex tiles httpstcoxpnqrcxqnc idaacarmack compilers need improve imo type pointer memory problems detected comp rgvaerialphotos spacex i\\x92m proud say nose pointier needs haha rt motortrend put tesla model long range electric suv test track find do\\x97and turns well anandmahindra metnigeorges eriksolheim berniehollywood norway leads world nasaspaceflight passed cryo proof johnkrausphotos superclusterhq spacex ajtourville yeah it\\x92s contest advanced casting crushes bestcase printing casting doesn\\x92t work wel astrofarmerbob astropettit astrokomrade astroannimal great pics johnkrausphotos patreon superclusterhq spacex maybe flag mars tashaark additive manufacturing parts still far costly cars rapidly create tooling accel renatakonkoly franktinsley ankitxupta tashaark pretty much think may end high note rt spacex starman last seen leaving earth made first close approach mars today\\x97within astronomical units mill tashaark meant say fixed latest wide release won\\x92t need wait fsd tashaark franktinsley ankitxupta tashaark exactly barked tree way long sigh gives false sense picklepunchd ppathole tashaark yes play sexy snake jazz ppathole tashaark yes ppathole tashaark yeah provided metal gear snake autocoupler tashaark waymo impressive highly specialized solution tesla approach general solution lat httpstcobbchdqhjja akidesir kristennetten yeah could put setting allowing drop low ercxspace spacex erdayastronaut marcushousegame felixschlang great render note need arm kristennetten mimecraft teslagong teslatested yes icannotenough teslatested autopilot team making great progress reality sure complicated ercxspace marcushousegame bocachicagal nasaspaceflight aspiring flame diverter boca marcushousegame bocachicagal nasaspaceflight giant steel balls haha teslatested completed financing round let know another one ihearttesla alexavoigt mikezimon wholemarsblog definitely need try tasty cakes amp pastries next visit marcushousegame bocachicagal nasaspaceflight mass ratio liquid oxygen much denser liquid ihearttesla alexavoigt mikezimon wholemarsblog amazing kebab ever outside tacheles httpstcodsgvwdhgnv ihearttesla alexavoigt mikezimon wholemarsblog döner kebab tribehoh spacex wastatecommerce you\\x92re welcome bocachicagal nasaspaceflight high bay finished except giant gantry crane within httpstcomieahkgnfo alexavoigt mikezimon wholemarsblog looks tasty tesladri chananbos wholemarsblog crash absorption rails cut amp replaced bolted part collision repair icannotenough wholemarsblog sandy munro understands engineering flcnhvy teslaownerssv wholemarsblog would like licensing battlestar galactica actually buil teslaownerssv wholemarsblog yes gigafactory hardest amp critical product chananbos wholemarsblog battery pack bonded structure cells providing shear transfer b wholemarsblog understand production much better primary competitive advantage longterm wholemarsblog even gm amp chrysler went bankrupt ford tesla us car companies httpstcoieaouisjri wholemarsblog model production ramp sheer agony two years die te evafoxu wholemarsblog bringing new product volume production inspiration amp perspiration st skorusark marginal cost starship mass orbit well fully burdened cost depends flight rate wholemarsblog prototypes piece cake high volume production new technology extremely hard ta wholemarsblog expect make heavy use lfp medium range cars amp stationary storage wholemarsblog berlin use cell structural battery pack amp front amp rear single piece castings also astrojordy wholemarsblog wholemarsblog wish companies would put spreadsheets moment focus making httpstcolckxzfpozx ppathole klodua erdayastronaut trevormahlmann johnkrausphotos mikeseeley bar absolute fine klodua erdayastronaut trevormahlmann johnkrausphotos mikeseeley cryo pressure test succeeded small le erdayastronaut trevormahlmann johnkrausphotos mikeseeley one best shots ever samtalkstesla spacex much sooner mdcainjr spacex nasa great photo dirtytesla spacex soon rt spacex falcon launches starlink satellites orbit completing spacexs flight previously flown rocket booster https spacex satellites reach target position able roll fairly wide public beta rt spacex deployment starlink satellites confirmed flcnhvy alvianchoiri we\\x92re seeing notable differences yet think boosters could probably reflig ppathole alvianchoiri roughly week two turnaround that\\x92s needed meet max launch demand starship alvianchoiri ahem yes flight booster amp flight active half fairing aiming flight amp landing booster httpstcouotvmkgxqh minutes launch looks good far cleantechnica crazy subsidize pollution good people especially dense cities heavy httpstcoackoizwcpw sciguyspace it\\x92s step right direction really aim full reusability larger ro turn volume amp play powerglide tesla teslaownerssv fsd solve issues music volume tesla goes it\\x92s louder kristennetten flcnhvy one favorite writers foundation tough make movie outstanding potential orionsgauntlet christianserino httpstcoglnevuneyl rewatched young frankenstein weekend still awesome ovaltine httpstcowimdyfsuiq flcnhvy remake potential great kinda liked original tbh it\\x92s possible take level hollywood start sequel amp skip original financials cleantechnica article wildly incorrect lithium battery costs factor presently amp longterm samtalkstesla teslaownerssv ppathole rationaletienne stevenmarkryan kristennetten wholemarsblog pretty wild new spacex droneship called \\x93a shortfall gravitas\\x94 nothing escape gravity even black holes really tried idaacarmack would cool put mind car it\\x92s driving coming soon call booty great game  teslaownerssv spacex vectorspace bird\\x92s eye view coming fsd ppathole spacex unexpected pressure rise turbomachinery gas generator erdayastronaut spacex we\\x92re broad review launch site propulsion structures av httpstconkfvidsxpp alandail spacex exactly spacex need make lot improvements chance completing launches next year lexfridman agree lex tesla electrekco teslarati glad you\\x92re ok sofiaan tesla haha amoghbhushan teslaclubin wholemarsblog mkbhd thanks waiting teslaclubin wholemarsblog mkbhd next year sure tobyliiiiiiiiii rationaletienne spexcast williammbrown ppathole thesheetztweetz waemd spacex rationaletienne spexcast williammbrown ppathole thesheetztweetz waemd spacex spacexstarlink spexcast williammbrown rationaletienne ppathole thesheetztweetz waemd spacex spacexstarlink wanationalguard great williammbrown rationaletienne ppathole thesheetztweetz waemd spacex spacexstarlink wanationalguard browns ppathole thesheetztweetz waemd spacex spacexstarlink wanationalguard average latency improve sat tobyliiiiiiiiii rationaletienne ppathole thesheetztweetz waemd spacex spacexstarlink wanationalguard rationaletienne ppathole thesheetztweetz waemd spacex spacexstarlink wanationalguard yes starlink design ppathole erdayastronaut nasaspaceflight bocachicagal thefavoritist probably optimized tanker thesheetztweetz waemd spacex spacexstarlink wanationalguard starlink revolution connectivity esp wholemarsblog mkbhd yeah adlanbogatyryov erdayastronaut nasaspaceflight bocachicagal thefavoritist great letter increasingl erdayastronaut nasaspaceflight bocachicagal thefavoritist ship rings thicker need mkbhd it\\x92s nextlevel  officialalishap flcnhvy tesla glad hear mom ok zshauladventure nasakennedy ulalaunch spacex natreconofc good see inspiring future space somiteslagirl futurejurvetson cfsenergy cupplasma mit new heat pump model futurejurvetson cfsenergy cupplasma mit yes coming soon ercxspace spacex felixschlang marcushousegame erdayastronaut nasaspaceflight great render circumferentia futurejurvetson cfsenergy cupplasma mit that\\x92s hard tried pushing c futurejurvetson cfsenergy cupplasma mit it\\x92s cool amp sure amp done suspect best cas httpstcopmyscvzozy weld esthetics improve greatly upcoming starships ppathole haha true showers wide range evafoxu rationaletienne wholemarsblog yes univercurious physicsj light fast you\\x92d think rt spacex dragon docks spacestation two dragons docked simultaneously crew cargo missions rt spacex spacex training astronauts fly board dragon\\x92s first operational mission complete crew arrives rt spacex launch crew dragon\\x92s first operational mission astronauts board spacex launch cargo resupply mi samtalkstesla maybe used many magenta spotlights rt kathylueders news we\\x92re targeting et saturday oct launch nasa spacex mission send ast valaafshar tesla low center gravity makes world difference safety waemd spacex probably ipo starlink several years future revenue growth perezshivam waemd spacex fate loooves irony haha waemd spacex glad spacex could help prioritizing emergency responders amp locations internet connectivity true teslavibes that\\x92s total market tesla see tesla reaching vehiclesyear probably bu cashmoneylemon cathiedwood skorusark total market cathiedwood skorusark seven years sure new fully electric vehicles per year six years maybe five ye flcnhvy cathiedwood original cars cathiedwood aren\\x92t cutting price model referring future car smaller model brianheide tesla heavy duty paintball machine gun mounted bed rails pickenheim matthewkerle new version coming soon wholemarsblog suppliers we\\x92re high energy nickel least also maybe presenta  teslagong drsallyl sydneyev teslatom teslastraya outbacktesla evoutback cvanderstock scottadamssays flcnhvy kristennetten checking kristennetten totally head tesla delivery center near amp maybe help new owners would cool idaacarmack completely agree erdayastronaut yes flaps directly driven electric motors gearbox hydraulics thanks tesla team great work deliveries new owners super appreciate accommodating us delivery ti httpstcoppzzhxbxgp scottadamssays times feel like i\\x92m living dilbert cartoon artifactshub species stood test time flcnhvy nasaspaceflight ppathole mostly broke interface nasaspaceflight ppathole bar differential ullage bar base due propellant head it\\x92 ppathole need enough height test body flaps amp drawing propellant headers vs main tanks se first flight ft nosecone amp front flaps next week next month starship rear body flaps waitbutwhy muratpak sure evafoxu true rt spacex falcon launch nasa\\x92s super cool interstellar mapping acceleration probe imap help researchers better hisdirtremoves spacex bad ennnafnlaus ajtourville exactly ajtourville munroassociates sandy munro understands engineering darealwamos turns mostly press letter amp typewriter centaur bow obviously justpaulinelol evafoxu haha evafoxu something like ajtourville can\\x92t support wheel vehicles safe enough rgvaerialphotos something appealing hawkinghartle idea agree turokfeldbruggelehners muratpak ur algo ppathole true ppathole erdayastronaut practical size constraints can\\x92t big fit engine comp ppathole erdayastronaut doesn\\x92t seem problem could probably increase area ratio given bar max de httpstcogzljmnyciu djsnm preburners ignite main chamber prediction probability inaccurate energy amp time besides podcastnotes genetic engineering slow unless use synthetic virus can\\x92t predict tobyliiiiiiiiii erdayastronaut yeah might need erdayastronaut expansion ratio little bit flow separation towards end nozzle rt spacex completed full duration test fire raptor vacuum engine spacex\\x92s rocket development facility mcgregor texas http rt spacex rvac sea level raptor human scale thing beyond ludicrous plaid xiangaw wholemarsblog seem like opposite open openai essentially captured microsoft wholemarsblog haha true oneandonlyheady maybe techamazing univercurious jets cool flcnhvy gfilche yahoofinance pretty much gfilche yahoofinance yes gfilche yahoofinance yahoo finance dumb sounds icannotenough yes spacex haha tobyliiiiiiiiii tesla roadster better ppathole probably cybertruck atv roadster amp semi c r futurejurvetson hiromichimizuno thanks many years support tough times icannotenough wholemarsblog little year challenging year we\\x92ve ever wholemarsblog that\\x92s right maybe little faster umutcnbostanci yes teslaownerssv cgi irl tobyliiiiiiiiii caranddriver tesla haha rt caranddriver drove model long range plus miles california believe could made tesla explain extreme difficulty scaling production new technology well understood it\\x92s harder httpstcomcxxfnsqfj nasaspaceflight bocachicagal haha intend increase reduce battery cell purchases panasonic lg amp catl possibly partners h important note tesla battery day unveil tomorrow affects longterm production especially semi cybertr evafoxu thanks spacex marcushousegame really need better legs starship they\\x92re coming spacex marcushousegame likely flaps fold landing reduce wind tip force fine we\\x92ll already arkinvest tashaark good analysis although think wait fsd bit mature singingsurfer i\\x92m pretty sure tesla could much better autocorrect bar low haha zogfotpik samiralyateem idaacarmack true igorantarov soumiksf idaacarmack custom ultra high speed bus amp efficient cooling teslaownerssv soumiksf idaacarmack ok flcnhvy soumiksf idaacarmack pretty much machinelearning soumiksf idaacarmack it\\x92s big zogfotpik samiralyateem idaacarmack sure soumiksf idaacarmack yeah open dojo training web service work bugs samiralyateem idaacarmack lot pointless zeroes neural nets chop soumiksf idaacarmack dojo uses chips amp computer architecture optimized neural net training idaacarmack tesla really want waypoints much idaacarmack dojo we\\x92re betting floating floating point essentially truncating mostly zeroes wholemarsblog yes wholemarsblog yes wholemarsblog there\\x92ll lots green space around factory building continuous \\x93open\\x94 areas httpstcorabjkrtqlw savedtesla shaped like diamond amp aligned true north prior track record exceptional achievement engineering required prior experience working httpstcowzaddnxmid feel neuralink might incorrectly overlooked resume declined make offer please lmk co teslaownerssv trungtphan felt done enough internet amp paypal work would trungtphan took utterly insane amount work move spacex amp tesla success probabilities zero trungtphan frank early days thought chance spacex amp tesla would worth fermatslibrary irrational funny word describe numbers course still love deborahpatteri tenetfilm sure planet tenetfilm good movie erdayastronaut current strong droneship hold station thrusters upgraded future missions chrisdungeon lot happened years teslarati insane speedrunning factorio real life cleantechnica make great points important note iron\\x92s cost advantage partly offset coderfoot berniesanders yup fallout shelter tesla tap entertainment button berniesanders implicit conflation consumption amp capital allocation foundational error kristennetten great idea fallout radio tjlk eerie parallels boring company amp vaulttec also built first demonstration tunnelvault la doubles underground nuclear shelter flcnhvy lexfridman yeah tesladri idaacarmack lexfridman happening soon idaacarmack lexfridman bit obscure starhammer amp stainless steel rat engineersfeed first thought parrot jhall remind guys story life  tunnels cities selfdriving electric cars feel like warp drive first operational tunnel vega jackfarrington sure jackfarrington tesla good point hugged tunnel today arkinvest aurmanark good analysis ppathole exactly flcnhvy gary snail still winning we\\x92re gaining himher embrace tunnels valaafshar tunnels solution traffic many levels want usable tunnel depth far e ercxspace guess probably mid teens booster amp stacking orbital pad likely limiti ercxspace pretty accurate simulation although use raptors craters amp close behind teslavibes couldn\\x92t agree \\x97 major software improvements already place extend life amp coming cleantechnica definitely smartwatches amp phones yesterday\\x92s technology neuralinks future engineersfeed seems like make whole outfit material sama ancient greece amp committed suicide nobody digs grave better flcnhvy sama true historyinpics lego movie awesome sama story civilization first book little dry second book life greece incredible erdayastronaut i\\x92m wearing engine shirt right ppathole rykllan felixschlang spacexcentric marcushousegame spacex cumulative mass orbit per year correc ppathole rykllan felixschlang spacexcentric marcushousegame spacex that\\x92s number really matters rykllan felixschlang spacexcentric marcushousegame spacex anyone tracking tonnage orbit per year launch vehicles one way another excitement guaranteed support greater boca padre brownsville community much appreciated starship flaps amp nosecone done week static fire checkouts static fire fly ft amp back spacepadreisle bocachicagal nasaspaceflight someone boat service south padre boca whatsupfranks samiralyateem wholemarsblog exactly problems like addressed ppathole wholemarsblog yes good insight samiralyateem wholemarsblog frames stitched single frame tricky cameras overlap different ways whatsupfranks brandonbernicky wholemarsblog much flcnhvy wholemarsblog yes brandonbernicky wholemarsblog releasing private beta weeks public beta early access owners opt wholemarsblog still isn\\x92t using dramatically better \\x93\\x94 aka simultaneous surround video cameras architecture nasaspaceflight marcushousegame cool richardreinariv clue astra sorry hear i\\x92m sure you\\x92ll figure though took us four launches reach orbit rockets hard many exciting things unveiled battery day ostimusic make super efficient home hvac hepa filters one day jhall rbreich reich actually cares global warming making much hot air flcnhvy natürlich bitte arbeiten sie bei tesla giga berlin es wird super spaß machen monicalewinsky try tesla amp you\\x92re welcome give back decide prefer subaru slashdot vera rubin observatory cool ppathole univercurious univercurious munger right univercurious univercurious blackscholes formula kinda bs big difference finance approximation amp fundamental physics pure math wintonark true disruptresearch tesla best understood collection dozen startups mostly series increasingly disruptresearch tesla rampd productivity exceptionally good due caliber engineering talent tesla model amp x hospitalgrade hepa air filters amp really good big effect healt kleefilmreview rt teslarati tesla energy ramps hiring giga new york accelerated solar production techgnostik rbreich touché rbreich tesla workers also get stock compensation increased proportionately modern day moron rt spacex onboard camera view falcon \\x92s saocom launch first stage land landing mstrofuniverse ppathole evafoxu yup evafoxu teslarati rawlinson didn\\x92t design model prototype done joined amp left us lurch erdayastronaut ppathole spacex we\\x92re pretty close manufacturing size limit milled copper amp steel ja la guerre comme à la guerre harsimranbansal haha bnordhaug starts tweeting bombard earth enough photons eventually emits tesla ak idaacarmack already bidirectional communication human amp ai via phones amp computers it\\x92s lo erdayastronaut ppathole spacex likely make ppathole spacex test engine flight articles fixed gimbal spacex worth noting thrust slightly higher big bell nozzle version larger bell primarily rt spacex first raptor vacuum engine rvac starship shipped spacex\\x92s rocket factory hawthorne california dev tesmaniancom yes skorusark chart understates lithiumion potential roughly model rated reliable car turns make anything fly haha httpstcofjdhqrdvdb ppathole curevacrna exactly fully appreciated starship flew asimilar hop much smoother amp faster operation berlin vielen dank für ihre hervorragende arbeit giga berlin great trip germany support government amp people super appreciated saraboutall tesla rt spacex deployment starlink satellites confirmed rt spacex liftoff stefantpeterson tesla trust ur butt haha slashdot ai picking goal result strawberry fields forever spceenthusiast tjmurphymit thesheetztweetz exploremars spacex theespacedude time outer spceenthusiast tjmurphymit thesheetztweetz exploremars spacex theespacedude yeah alertalarms go resonant modes fast it\\x92s hang problems arise tjmurphymit thesheetztweetz exploremars spacex theespacedude outer ring booster engines hav erdayastronaut flcnhvy gerberkawasaki videodrome teslaownerssv justpaulinelol teslaownerssv justpaulinelol teslaownerssv justpaulinelol sorry sir think momentinertiaphobia rt spacex falcon first stage lands landing zone complete booster\\x92s fourth flight httpstcotutackmifn frydave youyanggu dfisman yeah ppathole nigellockyer penn fermilab lhc tbh  nigellockyer penn fermilab ever want build long accelerator tunnel straight circular know people rt spacex launching saocom two rideshare payloads orbit falcon \\x92s first stage returns earth lands landing zon rt spacex deployment saocom confirmed rt spacex falcon \\x92s first stage landed landing zone rt spacex liftoff vitalvegas cool rt neuralink snout boops nigellockyer penn fermilab physics law everything else recommendation samtalkstesla teslarati company solved useful thing buy would great it\\x92s teslarati tesla germany designed amp built vaccine rna printers curevac subject curevac ip th engineersfeed technically james watt measured pony added amp rounded haha flcnhvy gerberkawasaki also critical thinking flcnhvy gerberkawasaki alexander rise hellenism film studies gerberkawasaki wow super loved astronomy took queens penn definitely one favorite class teslaownerssv justpaulinelol yeah sent mutual physics prof friend caltechcern ba justpaulinelol it\\x92s embarrassing learned physics prof penn head fermilab amp still old homework unfortunately common many academia overweight value ideas amp underweight bringing httpstcooffoojcqnv lvaux kulpability tlowdon ethicalskeptic people extremely unlikely die alone ppathole kulpability tlowdon ethicalskeptic amp giga berlin i\\x92m headed germany week convers tlowdon ethicalskeptic antibody halflife short study spacex working harvard ppathole tlowdon ethicalskeptic yeah kulpability tlowdon ethicalskeptic one person tesla hospitalized serious condition httpstcounjgvlveuk tlowdon ethicalskeptic tests initially tried tesla false positive including fro wholemarsblog marcushousegame spacex erdayastronaut elonsworld felixschlang chrisgnsf djsnm yet marcushousegame spacex erdayastronaut elonsworld felixschlang chrisgnsf djsnm yes icannotenough people read much level detail it\\x92s useful predicting future icannotenough critical feedback always appreciated btw janeidyeve tesmaniancom spacex can\\x92t blanket pass maybe events spacex marcushousegame erdayastronaut elonsworld felixschlang chrisgnsf djsnm boost flcnhvy ppathole idaacarmack later versions larger device would potential evafoxu waitbutwhy yup ppathole idaacarmack actually c although syntax could improved esthetically idaacarmack like c avoids class warfare ppathole ieeespectrum neuralink nightcap would probably work best ieeespectrum neuralink pretty much tesmaniancom good summary conceptual telepathy rt waitbutwhy ever fantasize engineer working edison\\x92s lab apply work neuralink ahem starting soon \\x93all physics either impossible trivial impossible understand becomes trivial\\x94 e rutherford flcnhvy giant gap experimental medical device use patients extreme medical problems amp wid tobyliiiiiiiiii erdayastronaut flcnhvy djsnm testing shorter rvac skirt went well full length skirt test coming soon neuralink product demo hours webcast erdayastronaut flcnhvy djsnm raptor reached mtf half million pounds thrust peak pressure wit nextspaceflight good chance something slip yeah sunday intense erdayastronaut flcnhvy djsnm need engines astrojordy flcnhvy djsnm boring co tunnel vegas months operational flcnhvy djsnm neuralink month amp tesla next month spacex probably october made lot progre zeitmas djsnm soon djsnm they\\x92re quite accurate evafoxu number sure comes lot ajtourville i\\x92m fine reasonable drone footage needs fair distance amp coming r gerberkawasaki tesla thanks smart hardworking team tesla sure wild times teslarati much appreciated serious attack thejackbeyer nasaspaceflight brave starhopper carried day itmotivatesus many days waitbutwhy wholemarsblog obtuse good although think works esthetically foldedover c cleantechnica actually nothing surprised hear they\\x92re across road adding silicon carbon anode cleantechnica nothing lexfridman leave house hardly ever call parents big bang started smol ppathole asimov believe things proportionate evidence true yes olde skoole analog synthesizer ancient britain slashdot kristennetten flcnhvy amp weather calm sure hope stays way teslarati tesla brake lights powered miniverse inside microverse flcnhvy exactly erdayastronaut tesla we\\x92re focused developing new products amp scaling production flcnhvy neuralink yes show still far lasik could get pretty close years lengthy background neuralink waitbutwhy live webcast working neuralink device friday pacific httpstcopoulbrgzfu engineersfeed astronaughty owensparks ppathole erdayastronaut dauqhx universalsci ppathole erdayastronaut dauqhx universalsci mars easier moon propellant production could get erdayastronaut dauqhx universalsci starship propellant oxygen plant moon would enou waitbutwhy want candy dauqhx universalsci there\\x92s lot frozen amp mars heating planet densify atmosphere it\\x92s solvable universalsci perhaps one day ocean northern part mars jchybow jwangark wintonark it\\x92s almost working reliably jwangark wintonark different computers needed training vs inference fsd mostly dojo jwangark wintonark exactly gpus nn lots cores optimized dot products fast local memory amp sup teslaaddicted erdayastronaut amp possible scale erdayastronaut orbital launch mount nasaspaceflight yeah occasional flights land ok frequent daily flights probably need schristakos skorusark sure shortword tried warn dug grave twice fast skorusark whkg high cycle life produced volume lab far probably years nasaspaceflight starshipsuper heavy mass zenit mostly launch ocean spaceports longterm rt teslarati tesla model \\x93most satisfying\\x94 car across ages study reveals httpstcoxuzmulvfhf johnkrausphotos nasaspaceflight spacex superclusterhq starshipsuper heavy bigger mass amp volume metaphor life rt jaxzin power flowing grid grateful tesla powerwall hours uninterrupted backup power ht tesmaniancom accurate distance calculation using vision fundamental sensors help fundamental darpa uh oh fun games coming soon ur tesla httpstcozbdygouhsz httpstcohkpwjnxsfc strikes sorry noise reduction gotten much better recently amp continue improve  jussiwen hardcore techno aber vielleicht ein bisschen fahrstuhlmusik auf der toilette new tesla feature coming enables car play snake jazz polynesian elevator music outside speakers wherever go  flcnhvy janeidyeve hopefully achieved ai symbiosis janeidyeve selfperpetuating autocracy based farcical aquatic ceremony king chosen wise panzer lake janeidyeve direct democracy short comprehensible laws voted directly people snake jazz  wholemarsblog it\\x92s quite hard us write software needed cover basic car functionality maybe c sounds like simon amp garfunkel lyrics bureaucracy inherently kafkaesque tesmaniancom dankeschön brandenburg amp grünheide harsimranbansal evafoxu true geffenavraham bryanflanks spellmender vladkarmon torybruno ulaengineer spacex medical check aok might run president erdayastronaut nextspaceflight long chain hydrocarbons amp lowering preburner combustion temperature make big difference everydayelon ajtourville commaai tesmaniancom yes wholemarsblog ajtourville commaai tesmaniancom yes daniellefong ajtourville commaai tesmaniancom absolutely needs liquid cooling we\\x92re applying experience teslatested that\\x92s error canada lease payment specifically lower loan financing tesla expec tobyliiiiiiiiii erdayastronaut nextspaceflight push ten flights starlink flcnhvy erdayastronaut nextspaceflight almost never need replace whole engine individual parts like erdayastronaut cnunezimages mostly employees we\\x92ll support public access whenever it\\x92s evafoxu cnunezimages absolutely erdayastronaut nextspaceflight don\\x92t want cavalier isn\\x92t obvious limit flights possi cnunezimages i\\x92ve working boca since sunday august heat amp humidity south texas int ajtourville commaai tesmaniancom dojo isn\\x92t done yet year away chips power httpstcotsbttiduhj spacecoaststve scorcher vi antonioetayo erdayastronaut nasaspaceflight felixschlang yes elevator music underrated erdayastronaut nasaspaceflight felixschlang it\\x92s counterintuitive raptor much thrust h rt tesla big updates \\x96 transcanada supercharging \\x96 model deliveries \\x96 leasing model amp model httpstcogyfbe nextspaceflight payload reduction due reusability booster amp fairing amp recovery amp refurb zubinanary guidodecaso cnunezimages yes huge nuts haha teslarati really need bigger one adults squeeze guaranteed make party fun works well flamethrowers guidodecaso cnunezimages favorite one tension dof compression new roadster w davidgokhshtein yes aloha welcome back space erdayastronaut yeah post shortly krystofmitka biindia winning \\x93worst person i\\x92ve ever worked with\\x94 easy real champions vying title fairing chute control amp ship control closing loop locally operating spacex autopilot ms tree catches fairing net biindia rt spacex falcon \\x92s first stage landed course still love droneship \\x96 first time booster completed six flights valleyhack geoffdbarrett somewhere cruising deep space httpstcopcybhfpuad natgeo must aliens yes rgvaerialphotos spacex erdayastronaut little spit dirt take us mars jwangark humans swiftly becoming small percentage total compute erdayastronaut programmerdude max demonstrated raptor thrust tons amp min tons they\\x92re actually adamblitzer levie justpaulinelol nasaspaceflight that\\x92s engine sn we\\x92re building ship nasaspaceflight tested amp several upgrades bar engine reference bar r raptor engine reached bar chamber pressure without exploding httpstcokvkrwksvab erdayastronaut yeah starship tiny dot hard see naked eye we\\x92ll lots flights erdayastronaut nasaspaceflight felixschlang impressive render note legs bigger amp there\\x92 ppathole universalsci might sting little ppathole \\x93early investor\\x94 part tesla wrong bs pushed eberhard worst person i\\x92ve ever universalsci also could long period comets intersect earth right haven\\x92t observed httpstcomezrzcnewo universalsci pretty much cybertruck option package stevestuwill jagarikin wow boosterbuddies nasaspaceflight buttontwiddling makes sense flcnhvy nickcappelli grimezsz got evafoxu that\\x92s great one \\x93tanks memery\\x94 panzer lake big milestones coming drphiltill africa big awardsdarwin bold move sir bold move euricsanti luisabinader tesla thank tesla honored cowderysedge tbdnonymous real possibility billratchet wholemarsblog please trash wikipedia i\\x92m begging history written victors except wikipedia haha nickcappelli grimezsz cover barbie girl tbdnonymous yes probably accurate say great filters plural nickcappelli grimezsz yes it\\x92s called cyber girl must pass great filter sounds right drrami tomdestella robertdowneyjr seriously longelon crysis rocks truly useful exaflop de facto kristennetten engineersfeed metal fudgelike consistency near melting point smoosh together engineersfeed make falcon  flcnhvy icannotenough tesla hands hard predict maybe order billion km yes realwillreil giuliocoraggio hasty govt teslaownerssv ppathole icannotenough flcnhvy tesla lot work remains technically working ppathole icannotenough flcnhvy tesla dojo still built maybe year icannotenough flcnhvy tesla autopilot trapped local maximum labeling single camera images uncorrelate icannotenough flcnhvy tesla insights years excellent that\\x92s approximately right giuliocoraggio absolutely doesn\\x92t seem govt move fast enough teslaownerssv ok flcnhvy blow ur mind haha main engineering locations palo alto austin amp seattle working remotely acceptable exceptional candidates tomdestella want electric vtol supersonic sooo bad brain overload universalsci asteroid impact risk well understood comets worry great mission patch design nikolatruth haha true wholemarsblog yup flcnhvy teslaownerssv exactly kristennetten teslaownerssv erdayastronaut also definitely coming haha relatively recent cars vicentes teslaownerssv erdayastronaut sorry embarrassingly late two factor authentication via sms bennettm erdayastronaut yes we\\x92re labeling bumps amp potholes car slow steer around safe teslaownerssv erdayastronaut perfectly first yes take maybe year get really good erdayastronaut meant \\x93\\x94 erdayastronaut fsd improvement come quantum leap it\\x92s fundamental architectural rewrite tesla developing nn training computer called dojo process truly vast amounts video data it\\x92s beast p teslarati software improvements coming cleantechnica significant improvements coming sx air suspension soon via software update simultaneously stoolpresidente iron nickel chrome aluminum necessarily order matter far httpstcoiaqicetdoa waitbutwhy lukeprog odds teslarati rate improvement original gpt impressive rate improvement teslarati tesla team working hard increasing powerwall production rt jimbridenstine news nasa amp spacex targeting earlier oct crew dragon\\x92s first operational mission spaces erdayastronaut erdayastronaut impressive stoolpresidente psyche erdayastronaut torybruno ulalaunch spacex blueorigin djsnm theprimaldino yes integrated tip nose teslarati important erdayastronaut probably faster utility power restored powerwallpowerpackmegapack certainly torybruno ulalaunch spacex blueorigin erdayastronaut djsnm theprimaldino starship fairing wil pantsbobsponge andyjstanton timfernholz correct substantial underpayment compared ula received timfernholz madness acceptable boeinglockheed rockets timfernholz nobody would suggest buying airplanes fly amp crash ocean would absurd tesmaniancom generally try best patents timfernholz efficiently reusable rockets matter making life multiplanetary amp \\x93space power\\x94 becau wholemarsblog amazing see operation biggest casting machine ever made make rear body renarddemoscou billgates sorry hear help teslarati surprise teslarati aiming make super fun teslarati little toastier flight flcnhvy hex tiles slightly different mounting method need bigger sections tiles see hold httpstcoxniptypahf new alloy test tank taken burst pressure body flaps amp nosecone sn amp starship production complex texas markgoldberg tesla one day soon wear outfit markgoldberg tesla trying channel herb tarlek wkrp markgoldberg tesla note fabulous plaid jacket amp gingham shirt combo archillect twin peaks samtalkstesla working mom\\x92s cousin\\x92s farm saskatchewan age think barnraising day wonderofscience erdayastronaut sure yet hopefully need leg amp repairs probably flies need lexfridman clearly rt erdayastronaut spot tiny humans shot really puts scale full blown starship superheavy hard fat ramacvr kristennetten ppathole berniesanders also true kristennetten ppathole berniesanders ppathole berniesanders time since give employees shares ownership diluted automatically rt theplanetaryguy videos like always amaze astronomer jan koet captured video saturn appearing behind rationaletienne berniesanders wonder reads twitter feed berniesanders aim attacks tesla we\\x92re company earth advance berniesanders bs pushed oil amp gas interests distract people trillion per year berniesanders berniesanders good analysis also includes govt loan high efficiency vehicles tesla paid b westcoastbill johnkrausphotos erdayastronaut queuemax nasaspaceflight yeah full name engine velociraptor raptor short tobyliiiiiiiiii erdayastronaut queuemax nasaspaceflight haha good catch booster fixed legs add height erdayastronaut queuemax nasaspaceflight think get velociraptor tw par merlin latter also nasaspaceflight look crazy tall booster amp fairing ft renatakonkoly timothybuffett teslarati janeidyeve ok timothybuffett teslarati apart failing quarantine elderlyatrisk people early mistake recognize right teslarati good piece giga berlin construction futurejurvetson spacex seems increasingly likely rt spacex falcon \\x92s first stage landed course still love droneship teslarati gonna great  rt tesla looking model rt spacex starship takes flight ppathole trevormahlmann arstechnica we\\x92ll several short hops smooth launch process go high altitude body flaps trevormahlmann arstechnica soon trevormahlmann arstechnica legs longer legs much wider amp taller \\x97 like falcon bu flcnhvy progress accelerating rt nasaspaceflight launch starship launched meter test hop spacex boca chica power raptor h sciguyspace exactly mars looking real trevormahlmann possible flight mins erdayastronaut likely flcnhvy cleantechnica true cleantechnica highly likely road cleantechnica true fact nasaspaceflight scrubbed day raptor turbopump spin start valve didn\\x92t open triggering automatic abo httpstcoqddlnxfgjg erdayastronaut i\\x92m boca control room hop attempt minutes rt reallifestarman \\x93we going go moon going base moon going send people mars make erdayastronaut spacex sure engineersfeed tbh must confess occasionally pontificating highconcept things engineersfeed pretty much erdayastronaut nosecone closing recommended required safe entry space travel becomes common air travel future civilization assured rt nasa anybody touched endeavour take moment cherish day touching words astrodoug waitbutwhy space new air rt nasa live update todays spacex dragon endeavour splashdown returning astrobehnken amp astrodoug home earth hear j rt jimbridenstine update postspacex crew dragon splashdown news conference earlier et watch live httpstcoqpe congratulations spacex amp nasa completing first crewed dragon flight returned rt spacex webcast crew dragon\\x92s return earth spacestation astrobehnken astrodoug httpstcobjfjlczwdk h rt spacex good splashdown dragon confirmed welcome back earth astrobehnken astrodoug dragon stable water acquisition signal expected mins mins dragon loss signal due atmospheric entry plasma dragon travel south new zealand florida minutes coming hot astronauts land hours nasa spacex rt spacex crew dragon\\x92s flight back earth astrobehnken astrodoug remains track targeting splashdown coast p erdayastronaut spacex however prove superdraco landing could work propulsive hover erdayastronaut spacex correct parachutes originally backup landing system superdraco thruster spacex spacestation astrobehnken astrodoug great game natalcicuto tesla kristennetten teslaforthewin working rt commercialcrew astrodoug amp astrobehnken spend one night space prior returning homeland earth rt nasa view inside spacex dragon endeavour astrobehnken amp astrodoug monitor departure spacestation ht rt spacex separation confirmed dragon performing departure burns move away spacestation rt spacex crew dragon depart spacestation astrobehnken astrodoug hours splash coast engineeringvids simplest solution necessarily satisfying rt cleantechnica tesla autopilot accidents miles us average miles rt tesla tesla vehicle safety report httpstcoxxvcwmrtws cybrtrck absolutely longlasting art incredibly difficult bbc article provides sensible summary done rt jimbridenstine news teams nasa spacex remain go plans bring astrodoug astrobehnken home earth sunday rt nasa theyre coming home aug astronauts astrobehnken astrodoug depart spacestation spacexs crew dra great pyramid tallest structure made humans years three thousand eight hundred years rt commercialcrew nasa spacex remain go plans bring astrodoug astrobehnken home earth weekend teams c waitbutwhy true ramses ii aliens built pyramids obv iearnsomethlng ancient egypt incredible esthetic stands day notch matfabrix engineersfeed witch logic matfabrix engineersfeed things take granted like flying would burned stake witchcraft long ago engineersfeed engineering magic made real janeidyeve lo que construimos thesheetztweetz cool  starship completed full duration static fire hop soon eclipse heart lnterestingmaps iearnsomethlng ppathole flcnhvy shravantr neuroskeptic i\\x92m aware ppathole flcnhvy shravantr neuroskeptic yes could also extend range hearing beyond normal frequencies amplitudes deus ex flcnhvy shravantr neuroskeptic neuralinks currently meant mature brains amp functionality lost remo shravantr neuroskeptic yes possible create neural shunt motor cortex microcontrollers httpstcohppvgjfhms neuroskeptic show neurons firing realtime august matrix matrix neuroskeptic don\\x92t fire go several seconds minutes without firing fire several ti nasapersevere ulalaunch nasalsp congrats great launch sometimes touch httpstcokmassjctix anvithvittal dnpthree tiesto adagio strings great losing eurosandor rsprachrohr renatakonkoly sneakyness mein herz brennt best boss battle song ever flcnhvy robot heart sneakyness one time best tobyliiiiiiiiii sure sure could use good rave what\\x92s favorite techno died arms tonight rumor bill gates amp lovers completely untrue wholemarsblog ppathole yeah display also soon render teslas specifically model amp color instead ppathole ppathole we\\x92ve working years originally meant rabies vaccine ppathole ppathole billy g lover ppathole sounds like doesn\\x92t realize tesla makes vaccine machine curevac mkarolian tesla thanks letting know dig greendragonbot thesheetztweetz sum gt parts teslarati add miles range slow traffic kristennetten xiangaw owensparks berniesanders government money far talk trillions teslaownersnbay haha one ever top secret fart technology teslaownersnbay samlopezxx teslarati sure teslarati tesla open licensing software supplying powertrains amp batteries we\\x92re trying accelera xiangaw owensparks berniesanders doesn\\x92t appear appreciate government monopolist corporation limit slashdot techgnostik schristakos berniesanders agreed evafoxu schristakos berniesanders haha dmcryan rodamn it\\x92s prototype color schristakos berniesanders think used like bernie schristakos berniesanders berniesanders schristakos berniesanders maybe he\\x92s feeling bern haha nasaspaceflight fuel spin valve didn\\x92t open fix amp try tomorrow also odd tvc hydraulic pump behavior nasaspaceflight launch pad connector damaged storm fixed might able prisonplanet whether commercial government monopolies bad people teslarati sounds great ennnafnlaus theonion haha das kapital nutshell like great sense humor left losing middle rationaletienne theonion exactly rationaletienne atnickvega theonion hold beer theonion onion rose atnickvega theonion wow think lot youranonnews dropped youranonnews evafoxu haha rt teslacn pick energetic wallpapers charge everyday adventure httpstcohotdtlpdpw cleantechnica giga berlin come together impossibleseeming speed prefabricated construction method almost decade ago original dragon background ppathole rhiddhid ya can\\x92t beat br  avrwc planet claire cybrtrck fair point discuss team rhiddhid amazing great song spottedmodel cleantechnica nickel biggest challenge highvolume longrange batteries australia amp ca picklepunchd cleantechnica samtalkstesla that\\x92s haha cleantechnica lot potential lithium pretty much everywhere teslarati whoa cool theonion kristennetten yourfavgas ajtourville blue steel mattiecola ajtourville need high brinell hardness amp high corrosion resistance cybertruck\\x92s faceted flcnhvy yourfavgas ajtourville really want great fun could la austin yourfavgas ajtourville turning shade outdoor restaurant boca ajtourville cool flcnhvy ghostteslaphx crewtesla marcbenton yes ghostteslaphx crewtesla marcbenton impossible wholemarsblog days rt ccsakuras httpstcoemkzcfgarz rt mkbhd new video tesla model important car teslaownerssv ppathole maureendowd ring fire iliketeslas pjhornak randyvegetables know congratulations people bolivia ppathole maureendowd song whistle strangers night randyvegetables seriously think tesla toppled bolivian govt sigh maureendowd great song karaswisher maureendowd elon haha thanks kara erikmaza maureendowd sure thefavoritist nasaspaceflight bocachicagal yeah we\\x92re hunkering hurricane passes adolfomorenos historyofarmani exactly cool model review iamjamiefoxx teslacn tesla add power lift gate cost hansnoordsij agreed hydrogen fool sells make sense pronouns suck historyofarmani also get lithium australia nichegamer akinfermo yeah would way better send everyone bet one twitter even guillotine poseurs engineersfeed slow drag cigarette facebook haven\\x92t heard name years twitter sucks stevenbonchev apompliano something like politicians could legislate wealth everyone would trillionaire jammed gills special interests earmarks stimulus direct payments consumers ppathole pretty much goal government maximize happiness people giving person money allows decid httpstcolwfxhvksjf reminder i\\x92m favor universal basic income another government stimulus package best interests people imo tesla solar panels realdonaldtrump tesla thank behalf tesla team look forward building giga texas sciguyspace competition ensures companies work hard serve needs customers schristakos pubg something fun coming universalpics tomcruise spacex could great teslaownerssv cleantechnica that\\x92s great idea tesla actually looking revolutionary actuaries tesla insurance please inquire interested cleantechnica tbh bit less foolish rt commercialcrew orbit astronauts astrobehnken astrodoug performed habitability assessment spacex crew drago teslarati retail investors like hyperchangetv remarkably insightful also arkinvest sciguyspace especially boost stage volumetrically constrained way better soviet waitbutwhy basically pixel size ludalisl tesla can\\x92t emphasize enough tomosman tesla absolutely ajtourville haha cleantechnica agreed internetofshit oven keeps asking wifi password it\\x92s gonna get impressive mars rover mission launched china today rt tesla bbcfuture good article bbcsciencenews similar problem us data omgrofloljk good point don\\x92t soul soul cleantechnica adding people next version minutes later nytimes another day erdayastronaut flcnhvy individualized mass transit future flcnhvy best people seated safety amp speed travel coming soon wholemarsblog human overseen first fully selfdriving janeidyeve can\\x92t say involves  ppathole one stings memes send memes teslatrey need finish upgrading autopilot vs go steep slopes nothing gaslit people movie gaslight loomisp msnbc well said brian williams futurejurvetson great shot rt spacex videos yesterday\\x92s catch fairing halves httpstcoyztdfzlull fazeblaze samtalkstesla sometimes that\\x92s feel ppathole teslarati bocachicagal attempt fly later week srimyneni erdayastronaut considercosmos spacex sound amp flame color quite different teslarati bocachicagal yes teslarati bocachicagal we\\x92re rapidly changing alloy constituents amp forming methods traditional names like flcnhvy cleantechnica point probably advertising artcommunicationentertainment amp support high quality media rt spacex watch falcon launch anasisii httpstcobjfjlczwdk httpstcoiyhjznzobv das baby kann noch keinen löffel benutzen ystijd idaacarmack it\\x92s almost right ystijd idaacarmack talked hour ago seems fine idaacarmack vr twitter avatars saying mentions cleantechnica better put money product sales amp marketing ppathole bring life mars fairing halves caught space spacex ships rt spacex falcon \\x92s first stage landed read instructions droneship httpstcofpbckyfysh spacex nice work spacex team flcnhvy astrobehnken astrodoug spacex still long way go reuse matters degree it\\x92s rapid amp complete nasahqphoto long since last launch mins wholemarsblog cleantechnica months production release already alpha build cleantechnica lithium extremely common earth found almost everywhere hiromichimizuno congratulations mhi amp uae teslarati stilton kristennetten businessinsider new deep crimson giga berlin favorite teslarati important service high latitudes confiantman american born south africa left businessinsider true model still great car driving months ago driving feel wa rt businessinsider teslas model received top marks safety organizations north america europe australia teslaownerssv stephenpallotta discuss wed earnings call lots talk stephenpallotta yes hiromichimizuno looks cool ppathole potential maxxrpbtc thecryptolark jungleincxrp digitalassetbuy moonlamboio jwilliamsfstmed good article teslaownerssv waitbutwhy it\\x92s really set tours maybe astrobehnken spacex nasa spacestation manufactured mins lax waitbutwhy contribute chromosome amp mitochondria constant except mutations bwillofficial wholemarsblog neuralink yes kristennetten one part surgery scale must fully automated like lasik would solve lot brainspine injuries amp ultimately essential ai symbiosis fermatslibrary fermi awesome understood right questions ask rt archillect flcnhvy flcnhvy bde flcnhvy come hulk never loses pants flcnhvy yes ppathole prior neuroscience background required primarily electricalelectronic chip designme rt spacex targeting monday july falcon launch anasisii solving highvolume highreliability lowcost production problems especially valued you\\x92ve solved hard problems phones wearables sealing signal processing inductive charging power mgmt serhatserhatst many ppathole summarizes pretty much every biz school case study it\\x92s inevitable izzynobre excuse sell doge write algorithms ever realize negativity bias modelyendofice wintonark pretty much wintonark better hustle neuralink moving fast enough thanks stop evafoxu ppathole kristennetten lewismartin engineersfeed gigafactory product even car zikryzamir yes engineersfeed carefully hidden teslaownerssv kristennetten sure kristennetten might indooroutdoor rave space roof giga berlin httpstcouxqmuvtwxf pontolemaeus silverdegeneral bbcsciencenews exactly serious problem ratio retirees workers vincentdiong gerberkawasaki considering flcnhvy spacex small note latch post near base gone amp powered ethernet wire less obtrusive production version bbcsciencenews httpstcoxxrxfrqhbs ppathole bbcsciencenews thing call \\x93money\\x94 slow lossy amp unsecure database labor allocati nnalinas bbcsciencenews trying set good example haha mars needs people gerberkawasaki great work tesla software engineering bbcsciencenews population collapse biggest danger civilization ai imo erdayastronaut flcnhvy spacex yeah take less minute order goes live flcnhvy spacex starlink terminal motors selforient optimal view angle expert installer required niksanae ok alexavoigt wholemarsblog erdayastronaut thesheetztweetz brycespacetech spacex ulalaunch torybruno mhigroup roscosmos peterjbeck teslaaircraft flcnhvy tesla exactly wholemarsblog tesla autopilot literally named term used aviation also autobahn teslaownerssv engineersfeed strength amp perseverance people tesla despite facing extreme difficulties engineersfeed playable tesla efficiencylast jaminwestby teslaownerssv teslaratiteam teslarati automatically thesheetztweetz brycespacetech spacex ulalaunch torybruno mhigroup roscosmos mass orbit accura teslarati cute teslalisa spadival barkmsmeagol annerajb pjhornak wpipperger ecoheliguy wow katlinegrey reusability essential rocket single use absurd single use airplane e wild times spaceflightnow we\\x92re extra paranoid maximizing probability successful launch paramount summergamefest welcome anytime bradyleonard well care much sustainability civilization truth irony part haha teslatn teslaratiteam teslarati dollyparton yes plan superchargers public high power wall c chrisjcav teslaratiteam teslarati jaminwestby teslaownerssv teslaratiteam teslarati think teslaratiteam teslarati range testing number significantly higher extreme teslaratiteam teslarati reduced pricing model lr dual motor amp offer lr single moto teslaownerssv teslaratiteam teslarati yes vicentes teslaratiteam teslarati may able reach low states charge teslaratiteam teslarati range would unacceptably low lt mile epa teslaratiteam teslarati increase wire thicknesses sx reduce resistive heating technically mightytesla samtalkstesla elonsworld nikolatruth wholemarsblog renatakonkoly stevenmarkryan wholemarsblog thanks ppathole nearterm danger ai nichegamer didn\\x92t mind awesome mass effect talking sequels amazing mkbhd haha oprahside maybe design flag mars engineersfeed  spoke korolev\\x92s family today one best aliafshari general need improve podcasts play optimoprincipi spqr djzinc kenyanwalstreet true haha rationaletienne flcnhvy ppathole ihearttesla death loss information flcnhvy ppathole ihearttesla earning power post augmentation would easily pay that\\x92 httpstcobpzwersoys flcnhvy ppathole ihearttesla absolutely teslaparatodos evafoxu tesla mjkapkan evafoxu tesla probably good one design amp engineer germany bluebnd evafoxu tesla even techgnostik evafoxu tesla ok evafoxu tesla evafoxu tesla berlin model one watch revolution automotive body engineering finally burakaydik true wow ihop amp github close best use term \\x93full stack\\x94 ppathole ihearttesla sure great amp terrifying everything we\\x92ve ever sensed thought redmercy yes buzzindelhi sorry hopefully soon kenyanwalstreet actually payout vesting stock options may never pay stock can\\x92t b ihearttesla easy way answer tweet helping dire brain injuries first priority details aug ai symbiosis u wait flcnhvy there\\x92s flcnhvy true sounds surreal negative propaganda still amp easy find social ppathole make sure read ur terms amp conditions clicking accept teslagong ppathole samwise gamgee ppathole altho dumb dumber progress update august'"
      ]
     },
     "execution_count": 38,
     "metadata": {},
     "output_type": "execute_result"
    }
   ],
   "source": [
    "string_Total"
   ]
  },
  {
   "cell_type": "code",
   "execution_count": 39,
   "id": "308ef8d4",
   "metadata": {},
   "outputs": [
    {
     "data": {
      "text/plain": [
       "<matplotlib.image.AxesImage at 0x21817355310>"
      ]
     },
     "execution_count": 39,
     "metadata": {},
     "output_type": "execute_result"
    },
    {
     "data": {
      "image/png": "[encoded data removed]",
      "text/plain": [
       "<Figure size 432x288 with 1 Axes>"
      ]
     },
     "metadata": {
      "needs_background": "light"
     },
     "output_type": "display_data"
    }
   ],
   "source": [
    "#wordcloud for entire corpus\n",
    "from wordcloud import WordCloud\n",
    "wordcloud_stw = WordCloud(\n",
    "                background_color= 'black',\n",
    "                width = 1800,\n",
    "                height = 1500\n",
    "                ).generate(string_Total)\n",
    "plt.imshow(wordcloud_stw)"
   ]
  },
  {
   "cell_type": "code",
   "execution_count": null,
   "id": "70ec61b8",
   "metadata": {},
   "outputs": [],
   "source": []
  }
 ],
 "metadata": {
  "kernelspec": {
   "display_name": "Python 3 (ipykernel)",
   "language": "python",
   "name": "python3"
  },
  "language_info": {
   "codemirror_mode": {
    "name": "ipython",
    "version": 3
   },
   "file_extension": ".py",
   "mimetype": "text/x-python",
   "name": "python",
   "nbconvert_exporter": "python",
   "pygments_lexer": "ipython3",
   "version": "3.9.12"
  }
 },
 "nbformat": 4,
 "nbformat_minor": 5
}
